{
  "cells": [
    {
      "cell_type": "markdown",
      "metadata": {
        "colab_type": "text",
        "id": "view-in-github"
      },
      "source": [
        "<a href=\"https://colab.research.google.com/github/naren951/Sds/blob/master/AQI.ipynb\" target=\"_parent\"><img src=\"https://colab.research.google.com/assets/colab-badge.svg\" alt=\"Open In Colab\"/></a>"
      ]
    },
    {
      "cell_type": "markdown",
      "metadata": {
        "id": "17r-gBncnjm-"
      },
      "source": [
        "###This analysis involves the dataset that contains the air quality of many places in india over several decades. However this particular project deals with the air quality index regarding Bengaluru in most parts."
      ]
    },
    {
      "cell_type": "code",
      "execution_count": null,
      "metadata": {
        "id": "pFdOGjbyiDyh"
      },
      "outputs": [],
      "source": [
        "dataset_url=\"https://www.kaggle.com/shrutibhargava94/india-air-quality-data/\""
      ]
    },
    {
      "cell_type": "markdown",
      "metadata": {
        "id": "19RT11TOnZbX"
      },
      "source": [
        "### This is the URL to the kaggle dataset that we will be using in this analysis"
      ]
    },
    {
      "cell_type": "code",
      "execution_count": null,
      "metadata": {
        "colab": {
          "base_uri": "https://localhost:8080/"
        },
        "id": "8W_BgtT1ucik",
        "outputId": "99f1623b-a8df-46e0-8d8d-1ca0e95a7bc2"
      },
      "outputs": [
        {
          "name": "stdout",
          "output_type": "stream",
          "text": [
            "Collecting opendatasets\n",
            "  Downloading https://files.pythonhosted.org/packages/ac/78/322810cbe62c1fd03c44353a9f77011de0c7ab86ad294d129615cc2736a8/opendatasets-0.1.6-py3-none-any.whl\n",
            "Requirement already satisfied: tqdm in /usr/local/lib/python3.6/dist-packages (from opendatasets) (4.41.1)\n",
            "Requirement already satisfied: click in /usr/local/lib/python3.6/dist-packages (from opendatasets) (7.1.2)\n",
            "Requirement already satisfied: kaggle in /usr/local/lib/python3.6/dist-packages (from opendatasets) (1.5.9)\n",
            "Requirement already satisfied: six>=1.10 in /usr/local/lib/python3.6/dist-packages (from kaggle->opendatasets) (1.15.0)\n",
            "Requirement already satisfied: requests in /usr/local/lib/python3.6/dist-packages (from kaggle->opendatasets) (2.23.0)\n",
            "Requirement already satisfied: slugify in /usr/local/lib/python3.6/dist-packages (from kaggle->opendatasets) (0.0.1)\n",
            "Requirement already satisfied: certifi in /usr/local/lib/python3.6/dist-packages (from kaggle->opendatasets) (2020.6.20)\n",
            "Requirement already satisfied: python-slugify in /usr/local/lib/python3.6/dist-packages (from kaggle->opendatasets) (4.0.1)\n",
            "Requirement already satisfied: python-dateutil in /usr/local/lib/python3.6/dist-packages (from kaggle->opendatasets) (2.8.1)\n",
            "Requirement already satisfied: urllib3 in /usr/local/lib/python3.6/dist-packages (from kaggle->opendatasets) (1.24.3)\n",
            "Requirement already satisfied: chardet<4,>=3.0.2 in /usr/local/lib/python3.6/dist-packages (from requests->kaggle->opendatasets) (3.0.4)\n",
            "Requirement already satisfied: idna<3,>=2.5 in /usr/local/lib/python3.6/dist-packages (from requests->kaggle->opendatasets) (2.10)\n",
            "Requirement already satisfied: text-unidecode>=1.3 in /usr/local/lib/python3.6/dist-packages (from python-slugify->kaggle->opendatasets) (1.3)\n",
            "Installing collected packages: opendatasets\n",
            "Successfully installed opendatasets-0.1.6\n"
          ]
        }
      ],
      "source": [
        "pip install opendatasets"
      ]
    },
    {
      "cell_type": "code",
      "execution_count": null,
      "metadata": {
        "id": "t-nSzNyPJN0j"
      },
      "outputs": [],
      "source": []
    },
    {
      "cell_type": "code",
      "execution_count": null,
      "metadata": {
        "colab": {
          "base_uri": "https://localhost:8080/"
        },
        "id": "hwX_t53Xja8_",
        "outputId": "dec3c142-9b93-4fa4-ae2d-0a35e99f1487"
      },
      "outputs": [
        {
          "name": "stdout",
          "output_type": "stream",
          "text": [
            "Please provide your Kaggle credentials to download this dataset. Learn more: http://bit.ly/kaggle-creds\n",
            "Your Kaggle username: naren951\n",
            "Your Kaggle Key: ··········\n"
          ]
        },
        {
          "name": "stderr",
          "output_type": "stream",
          "text": [
            "100%|██████████| 5.22M/5.22M [00:00<00:00, 168MB/s]"
          ]
        },
        {
          "name": "stdout",
          "output_type": "stream",
          "text": [
            "Downloading india-air-quality-data.zip to ./india-air-quality-data\n",
            "\n"
          ]
        },
        {
          "name": "stderr",
          "output_type": "stream",
          "text": [
            "\n"
          ]
        }
      ],
      "source": [
        "import opendatasets as od\n",
        "od.download(dataset_url)"
      ]
    },
    {
      "cell_type": "code",
      "execution_count": null,
      "metadata": {
        "id": "2YUqrO-Qjqgw"
      },
      "outputs": [],
      "source": [
        "data_dir = './india-air-quality-data'"
      ]
    },
    {
      "cell_type": "code",
      "execution_count": null,
      "metadata": {
        "colab": {
          "base_uri": "https://localhost:8080/"
        },
        "id": "3R-NPRt0k71v",
        "outputId": "c4fcf94a-36b7-48cc-9c75-55825ac2e2ab"
      },
      "outputs": [
        {
          "data": {
            "text/plain": [
              "['data.csv']"
            ]
          },
          "execution_count": 7,
          "metadata": {
            "tags": []
          },
          "output_type": "execute_result"
        }
      ],
      "source": [
        "import os\n",
        "os.listdir(data_dir)"
      ]
    },
    {
      "cell_type": "code",
      "execution_count": null,
      "metadata": {
        "id": "DC8oMa85k-I8"
      },
      "outputs": [],
      "source": [
        "import pandas as pd\n",
        "import numpy as np"
      ]
    },
    {
      "cell_type": "code",
      "execution_count": null,
      "metadata": {
        "colab": {
          "base_uri": "https://localhost:8080/",
          "height": 813
        },
        "id": "vDJEoeJwlZno",
        "outputId": "71b345fd-3c67-4dee-dba6-33a60beb5f8d"
      },
      "outputs": [
        {
          "name": "stderr",
          "output_type": "stream",
          "text": [
            "/usr/local/lib/python3.6/dist-packages/IPython/core/interactiveshell.py:2718: DtypeWarning: Columns (0) have mixed types.Specify dtype option on import or set low_memory=False.\n",
            "  interactivity=interactivity, compiler=compiler, result=result)\n"
          ]
        },
        {
          "data": {
            "text/html": [
              "<div>\n",
              "<style scoped>\n",
              "    .dataframe tbody tr th:only-of-type {\n",
              "        vertical-align: middle;\n",
              "    }\n",
              "\n",
              "    .dataframe tbody tr th {\n",
              "        vertical-align: top;\n",
              "    }\n",
              "\n",
              "    .dataframe thead th {\n",
              "        text-align: right;\n",
              "    }\n",
              "</style>\n",
              "<table border=\"1\" class=\"dataframe\">\n",
              "  <thead>\n",
              "    <tr style=\"text-align: right;\">\n",
              "      <th></th>\n",
              "      <th>stn_code</th>\n",
              "      <th>sampling_date</th>\n",
              "      <th>state</th>\n",
              "      <th>location</th>\n",
              "      <th>agency</th>\n",
              "      <th>type</th>\n",
              "      <th>so2</th>\n",
              "      <th>no2</th>\n",
              "      <th>rspm</th>\n",
              "      <th>spm</th>\n",
              "      <th>location_monitoring_station</th>\n",
              "      <th>pm2_5</th>\n",
              "      <th>date</th>\n",
              "    </tr>\n",
              "  </thead>\n",
              "  <tbody>\n",
              "    <tr>\n",
              "      <th>0</th>\n",
              "      <td>150</td>\n",
              "      <td>February - M021990</td>\n",
              "      <td>Andhra Pradesh</td>\n",
              "      <td>Hyderabad</td>\n",
              "      <td>NaN</td>\n",
              "      <td>Residential, Rural and other Areas</td>\n",
              "      <td>4.8</td>\n",
              "      <td>17.4</td>\n",
              "      <td>NaN</td>\n",
              "      <td>NaN</td>\n",
              "      <td>NaN</td>\n",
              "      <td>NaN</td>\n",
              "      <td>1990-02-01</td>\n",
              "    </tr>\n",
              "    <tr>\n",
              "      <th>1</th>\n",
              "      <td>151</td>\n",
              "      <td>February - M021990</td>\n",
              "      <td>Andhra Pradesh</td>\n",
              "      <td>Hyderabad</td>\n",
              "      <td>NaN</td>\n",
              "      <td>Industrial Area</td>\n",
              "      <td>3.1</td>\n",
              "      <td>7.0</td>\n",
              "      <td>NaN</td>\n",
              "      <td>NaN</td>\n",
              "      <td>NaN</td>\n",
              "      <td>NaN</td>\n",
              "      <td>1990-02-01</td>\n",
              "    </tr>\n",
              "    <tr>\n",
              "      <th>2</th>\n",
              "      <td>152</td>\n",
              "      <td>February - M021990</td>\n",
              "      <td>Andhra Pradesh</td>\n",
              "      <td>Hyderabad</td>\n",
              "      <td>NaN</td>\n",
              "      <td>Residential, Rural and other Areas</td>\n",
              "      <td>6.2</td>\n",
              "      <td>28.5</td>\n",
              "      <td>NaN</td>\n",
              "      <td>NaN</td>\n",
              "      <td>NaN</td>\n",
              "      <td>NaN</td>\n",
              "      <td>1990-02-01</td>\n",
              "    </tr>\n",
              "    <tr>\n",
              "      <th>3</th>\n",
              "      <td>150</td>\n",
              "      <td>March - M031990</td>\n",
              "      <td>Andhra Pradesh</td>\n",
              "      <td>Hyderabad</td>\n",
              "      <td>NaN</td>\n",
              "      <td>Residential, Rural and other Areas</td>\n",
              "      <td>6.3</td>\n",
              "      <td>14.7</td>\n",
              "      <td>NaN</td>\n",
              "      <td>NaN</td>\n",
              "      <td>NaN</td>\n",
              "      <td>NaN</td>\n",
              "      <td>1990-03-01</td>\n",
              "    </tr>\n",
              "    <tr>\n",
              "      <th>4</th>\n",
              "      <td>151</td>\n",
              "      <td>March - M031990</td>\n",
              "      <td>Andhra Pradesh</td>\n",
              "      <td>Hyderabad</td>\n",
              "      <td>NaN</td>\n",
              "      <td>Industrial Area</td>\n",
              "      <td>4.7</td>\n",
              "      <td>7.5</td>\n",
              "      <td>NaN</td>\n",
              "      <td>NaN</td>\n",
              "      <td>NaN</td>\n",
              "      <td>NaN</td>\n",
              "      <td>1990-03-01</td>\n",
              "    </tr>\n",
              "    <tr>\n",
              "      <th>...</th>\n",
              "      <td>...</td>\n",
              "      <td>...</td>\n",
              "      <td>...</td>\n",
              "      <td>...</td>\n",
              "      <td>...</td>\n",
              "      <td>...</td>\n",
              "      <td>...</td>\n",
              "      <td>...</td>\n",
              "      <td>...</td>\n",
              "      <td>...</td>\n",
              "      <td>...</td>\n",
              "      <td>...</td>\n",
              "      <td>...</td>\n",
              "    </tr>\n",
              "    <tr>\n",
              "      <th>435737</th>\n",
              "      <td>SAMP</td>\n",
              "      <td>24-12-15</td>\n",
              "      <td>West Bengal</td>\n",
              "      <td>ULUBERIA</td>\n",
              "      <td>West Bengal State Pollution Control Board</td>\n",
              "      <td>RIRUO</td>\n",
              "      <td>22.0</td>\n",
              "      <td>50.0</td>\n",
              "      <td>143.0</td>\n",
              "      <td>NaN</td>\n",
              "      <td>Inside Rampal Industries,ULUBERIA</td>\n",
              "      <td>NaN</td>\n",
              "      <td>2015-12-24</td>\n",
              "    </tr>\n",
              "    <tr>\n",
              "      <th>435738</th>\n",
              "      <td>SAMP</td>\n",
              "      <td>29-12-15</td>\n",
              "      <td>West Bengal</td>\n",
              "      <td>ULUBERIA</td>\n",
              "      <td>West Bengal State Pollution Control Board</td>\n",
              "      <td>RIRUO</td>\n",
              "      <td>20.0</td>\n",
              "      <td>46.0</td>\n",
              "      <td>171.0</td>\n",
              "      <td>NaN</td>\n",
              "      <td>Inside Rampal Industries,ULUBERIA</td>\n",
              "      <td>NaN</td>\n",
              "      <td>2015-12-29</td>\n",
              "    </tr>\n",
              "    <tr>\n",
              "      <th>435739</th>\n",
              "      <td>NaN</td>\n",
              "      <td>NaN</td>\n",
              "      <td>andaman-and-nicobar-islands</td>\n",
              "      <td>NaN</td>\n",
              "      <td>NaN</td>\n",
              "      <td>NaN</td>\n",
              "      <td>NaN</td>\n",
              "      <td>NaN</td>\n",
              "      <td>NaN</td>\n",
              "      <td>NaN</td>\n",
              "      <td>NaN</td>\n",
              "      <td>NaN</td>\n",
              "      <td>NaN</td>\n",
              "    </tr>\n",
              "    <tr>\n",
              "      <th>435740</th>\n",
              "      <td>NaN</td>\n",
              "      <td>NaN</td>\n",
              "      <td>Lakshadweep</td>\n",
              "      <td>NaN</td>\n",
              "      <td>NaN</td>\n",
              "      <td>NaN</td>\n",
              "      <td>NaN</td>\n",
              "      <td>NaN</td>\n",
              "      <td>NaN</td>\n",
              "      <td>NaN</td>\n",
              "      <td>NaN</td>\n",
              "      <td>NaN</td>\n",
              "      <td>NaN</td>\n",
              "    </tr>\n",
              "    <tr>\n",
              "      <th>435741</th>\n",
              "      <td>NaN</td>\n",
              "      <td>NaN</td>\n",
              "      <td>Tripura</td>\n",
              "      <td>NaN</td>\n",
              "      <td>NaN</td>\n",
              "      <td>NaN</td>\n",
              "      <td>NaN</td>\n",
              "      <td>NaN</td>\n",
              "      <td>NaN</td>\n",
              "      <td>NaN</td>\n",
              "      <td>NaN</td>\n",
              "      <td>NaN</td>\n",
              "      <td>NaN</td>\n",
              "    </tr>\n",
              "  </tbody>\n",
              "</table>\n",
              "<p>435742 rows × 13 columns</p>\n",
              "</div>"
            ],
            "text/plain": [
              "       stn_code       sampling_date  ... pm2_5        date\n",
              "0           150  February - M021990  ...   NaN  1990-02-01\n",
              "1           151  February - M021990  ...   NaN  1990-02-01\n",
              "2           152  February - M021990  ...   NaN  1990-02-01\n",
              "3           150     March - M031990  ...   NaN  1990-03-01\n",
              "4           151     March - M031990  ...   NaN  1990-03-01\n",
              "...         ...                 ...  ...   ...         ...\n",
              "435737     SAMP            24-12-15  ...   NaN  2015-12-24\n",
              "435738     SAMP            29-12-15  ...   NaN  2015-12-29\n",
              "435739      NaN                 NaN  ...   NaN         NaN\n",
              "435740      NaN                 NaN  ...   NaN         NaN\n",
              "435741      NaN                 NaN  ...   NaN         NaN\n",
              "\n",
              "[435742 rows x 13 columns]"
            ]
          },
          "execution_count": 9,
          "metadata": {
            "tags": []
          },
          "output_type": "execute_result"
        }
      ],
      "source": [
        "df= pd.read_csv('/content/india-air-quality-data/data.csv',encoding = \"ISO-8859-1\")\n",
        "df"
      ]
    },
    {
      "cell_type": "markdown",
      "metadata": {
        "id": "8Q1eC1GRoRM1"
      },
      "source": [
        "### The dataset was parsed and upon observation it is obvious that it is too massive for simple analysis. Henceforth only Bengaluru will be considered for this."
      ]
    },
    {
      "cell_type": "code",
      "execution_count": null,
      "metadata": {
        "id": "DmrsaNZ0llZ3"
      },
      "outputs": [],
      "source": [
        "df_blr=df.loc[df['location']==\"Bangalore\"]"
      ]
    },
    {
      "cell_type": "code",
      "execution_count": null,
      "metadata": {
        "colab": {
          "base_uri": "https://localhost:8080/",
          "height": 759
        },
        "id": "ohHoup25mqxR",
        "outputId": "77757f3f-471b-4dd3-902f-58329c49d62a"
      },
      "outputs": [
        {
          "data": {
            "text/html": [
              "<div>\n",
              "<style scoped>\n",
              "    .dataframe tbody tr th:only-of-type {\n",
              "        vertical-align: middle;\n",
              "    }\n",
              "\n",
              "    .dataframe tbody tr th {\n",
              "        vertical-align: top;\n",
              "    }\n",
              "\n",
              "    .dataframe thead th {\n",
              "        text-align: right;\n",
              "    }\n",
              "</style>\n",
              "<table border=\"1\" class=\"dataframe\">\n",
              "  <thead>\n",
              "    <tr style=\"text-align: right;\">\n",
              "      <th></th>\n",
              "      <th>stn_code</th>\n",
              "      <th>sampling_date</th>\n",
              "      <th>state</th>\n",
              "      <th>location</th>\n",
              "      <th>agency</th>\n",
              "      <th>type</th>\n",
              "      <th>so2</th>\n",
              "      <th>no2</th>\n",
              "      <th>rspm</th>\n",
              "      <th>spm</th>\n",
              "      <th>location_monitoring_station</th>\n",
              "      <th>pm2_5</th>\n",
              "      <th>date</th>\n",
              "    </tr>\n",
              "  </thead>\n",
              "  <tbody>\n",
              "    <tr>\n",
              "      <th>135530</th>\n",
              "      <td>77</td>\n",
              "      <td>11/2/1988</td>\n",
              "      <td>Karnataka</td>\n",
              "      <td>Bangalore</td>\n",
              "      <td>Karnataka Pollution Control Board</td>\n",
              "      <td>Industrial Area</td>\n",
              "      <td>37.2</td>\n",
              "      <td>15.2</td>\n",
              "      <td>NaN</td>\n",
              "      <td>220.0</td>\n",
              "      <td>NaN</td>\n",
              "      <td>NaN</td>\n",
              "      <td>1988-02-11</td>\n",
              "    </tr>\n",
              "    <tr>\n",
              "      <th>135531</th>\n",
              "      <td>78</td>\n",
              "      <td>11/3/1988</td>\n",
              "      <td>Karnataka</td>\n",
              "      <td>Bangalore</td>\n",
              "      <td>Karnataka Pollution Control Board</td>\n",
              "      <td>Industrial Area</td>\n",
              "      <td>77.9</td>\n",
              "      <td>32.0</td>\n",
              "      <td>NaN</td>\n",
              "      <td>142.0</td>\n",
              "      <td>NaN</td>\n",
              "      <td>NaN</td>\n",
              "      <td>1988-03-11</td>\n",
              "    </tr>\n",
              "    <tr>\n",
              "      <th>135532</th>\n",
              "      <td>79</td>\n",
              "      <td>11/2/1988</td>\n",
              "      <td>Karnataka</td>\n",
              "      <td>Bangalore</td>\n",
              "      <td>Karnataka Pollution Control Board</td>\n",
              "      <td>Residential, Rural and other Areas</td>\n",
              "      <td>27.2</td>\n",
              "      <td>20.3</td>\n",
              "      <td>NaN</td>\n",
              "      <td>392.0</td>\n",
              "      <td>NaN</td>\n",
              "      <td>NaN</td>\n",
              "      <td>1988-02-11</td>\n",
              "    </tr>\n",
              "    <tr>\n",
              "      <th>135533</th>\n",
              "      <td>80</td>\n",
              "      <td>11/3/1988</td>\n",
              "      <td>Karnataka</td>\n",
              "      <td>Bangalore</td>\n",
              "      <td>Karnataka Pollution Control Board</td>\n",
              "      <td>Industrial Area</td>\n",
              "      <td>23.1</td>\n",
              "      <td>13.4</td>\n",
              "      <td>NaN</td>\n",
              "      <td>356.0</td>\n",
              "      <td>NaN</td>\n",
              "      <td>NaN</td>\n",
              "      <td>1988-03-11</td>\n",
              "    </tr>\n",
              "    <tr>\n",
              "      <th>135534</th>\n",
              "      <td>81</td>\n",
              "      <td>11/2/1988</td>\n",
              "      <td>Karnataka</td>\n",
              "      <td>Bangalore</td>\n",
              "      <td>Karnataka Pollution Control Board</td>\n",
              "      <td>Residential, Rural and other Areas</td>\n",
              "      <td>26.3</td>\n",
              "      <td>11.2</td>\n",
              "      <td>NaN</td>\n",
              "      <td>150.0</td>\n",
              "      <td>NaN</td>\n",
              "      <td>NaN</td>\n",
              "      <td>1988-02-11</td>\n",
              "    </tr>\n",
              "    <tr>\n",
              "      <th>...</th>\n",
              "      <td>...</td>\n",
              "      <td>...</td>\n",
              "      <td>...</td>\n",
              "      <td>...</td>\n",
              "      <td>...</td>\n",
              "      <td>...</td>\n",
              "      <td>...</td>\n",
              "      <td>...</td>\n",
              "      <td>...</td>\n",
              "      <td>...</td>\n",
              "      <td>...</td>\n",
              "      <td>...</td>\n",
              "      <td>...</td>\n",
              "    </tr>\n",
              "    <tr>\n",
              "      <th>151687</th>\n",
              "      <td>598</td>\n",
              "      <td>17-03-15</td>\n",
              "      <td>Karnataka</td>\n",
              "      <td>Bangalore</td>\n",
              "      <td>Karnataka State Pollution Control Board</td>\n",
              "      <td>Sensitive Area</td>\n",
              "      <td>14.0</td>\n",
              "      <td>14.0</td>\n",
              "      <td>53.0</td>\n",
              "      <td>NaN</td>\n",
              "      <td>Department of Environmental Science, Jnanabhar...</td>\n",
              "      <td>NaN</td>\n",
              "      <td>2015-03-17</td>\n",
              "    </tr>\n",
              "    <tr>\n",
              "      <th>151688</th>\n",
              "      <td>598</td>\n",
              "      <td>19-03-15</td>\n",
              "      <td>Karnataka</td>\n",
              "      <td>Bangalore</td>\n",
              "      <td>Karnataka State Pollution Control Board</td>\n",
              "      <td>Sensitive Area</td>\n",
              "      <td>17.0</td>\n",
              "      <td>27.0</td>\n",
              "      <td>69.0</td>\n",
              "      <td>NaN</td>\n",
              "      <td>Department of Environmental Science, Jnanabhar...</td>\n",
              "      <td>NaN</td>\n",
              "      <td>2015-03-19</td>\n",
              "    </tr>\n",
              "    <tr>\n",
              "      <th>151689</th>\n",
              "      <td>598</td>\n",
              "      <td>25-03-15</td>\n",
              "      <td>Karnataka</td>\n",
              "      <td>Bangalore</td>\n",
              "      <td>Karnataka State Pollution Control Board</td>\n",
              "      <td>Sensitive Area</td>\n",
              "      <td>12.0</td>\n",
              "      <td>16.0</td>\n",
              "      <td>53.0</td>\n",
              "      <td>NaN</td>\n",
              "      <td>Department of Environmental Science, Jnanabhar...</td>\n",
              "      <td>NaN</td>\n",
              "      <td>2015-03-25</td>\n",
              "    </tr>\n",
              "    <tr>\n",
              "      <th>151690</th>\n",
              "      <td>598</td>\n",
              "      <td>26-03-15</td>\n",
              "      <td>Karnataka</td>\n",
              "      <td>Bangalore</td>\n",
              "      <td>Karnataka State Pollution Control Board</td>\n",
              "      <td>Sensitive Area</td>\n",
              "      <td>11.0</td>\n",
              "      <td>23.0</td>\n",
              "      <td>70.0</td>\n",
              "      <td>NaN</td>\n",
              "      <td>Department of Environmental Science, Jnanabhar...</td>\n",
              "      <td>NaN</td>\n",
              "      <td>2015-03-26</td>\n",
              "    </tr>\n",
              "    <tr>\n",
              "      <th>151691</th>\n",
              "      <td>598</td>\n",
              "      <td>30-03-15</td>\n",
              "      <td>Karnataka</td>\n",
              "      <td>Bangalore</td>\n",
              "      <td>Karnataka State Pollution Control Board</td>\n",
              "      <td>Sensitive Area</td>\n",
              "      <td>11.0</td>\n",
              "      <td>17.0</td>\n",
              "      <td>60.0</td>\n",
              "      <td>NaN</td>\n",
              "      <td>Department of Environmental Science, Jnanabhar...</td>\n",
              "      <td>NaN</td>\n",
              "      <td>2015-03-30</td>\n",
              "    </tr>\n",
              "  </tbody>\n",
              "</table>\n",
              "<p>6660 rows × 13 columns</p>\n",
              "</div>"
            ],
            "text/plain": [
              "       stn_code sampling_date  ... pm2_5        date\n",
              "135530       77     11/2/1988  ...   NaN  1988-02-11\n",
              "135531       78     11/3/1988  ...   NaN  1988-03-11\n",
              "135532       79     11/2/1988  ...   NaN  1988-02-11\n",
              "135533       80     11/3/1988  ...   NaN  1988-03-11\n",
              "135534       81     11/2/1988  ...   NaN  1988-02-11\n",
              "...         ...           ...  ...   ...         ...\n",
              "151687      598      17-03-15  ...   NaN  2015-03-17\n",
              "151688      598      19-03-15  ...   NaN  2015-03-19\n",
              "151689      598      25-03-15  ...   NaN  2015-03-25\n",
              "151690      598      26-03-15  ...   NaN  2015-03-26\n",
              "151691      598      30-03-15  ...   NaN  2015-03-30\n",
              "\n",
              "[6660 rows x 13 columns]"
            ]
          },
          "execution_count": 11,
          "metadata": {
            "tags": []
          },
          "output_type": "execute_result"
        }
      ],
      "source": [
        "df_blr"
      ]
    },
    {
      "cell_type": "markdown",
      "metadata": {
        "id": "El8YhpDaqszY"
      },
      "source": [
        "### Checking for null values"
      ]
    },
    {
      "cell_type": "code",
      "execution_count": null,
      "metadata": {
        "colab": {
          "base_uri": "https://localhost:8080/"
        },
        "id": "TVHk5kIvm7PA",
        "outputId": "14945cc8-fdd0-4630-9ad3-18d2766235ee"
      },
      "outputs": [
        {
          "data": {
            "text/plain": [
              "stn_code                       2597\n",
              "sampling_date                     0\n",
              "state                             0\n",
              "location                          0\n",
              "agency                         2597\n",
              "type                              0\n",
              "so2                             204\n",
              "no2                              50\n",
              "rspm                            424\n",
              "spm                            3332\n",
              "location_monitoring_station     421\n",
              "pm2_5                          6660\n",
              "date                              1\n",
              "dtype: int64"
            ]
          },
          "execution_count": 12,
          "metadata": {
            "tags": []
          },
          "output_type": "execute_result"
        }
      ],
      "source": [
        "df_blr.isna().sum()"
      ]
    },
    {
      "cell_type": "markdown",
      "metadata": {
        "id": "OYPT6rPQr3n1"
      },
      "source": [
        "### The dataset is sorted based on date for easier analysis."
      ]
    },
    {
      "cell_type": "code",
      "execution_count": null,
      "metadata": {
        "colab": {
          "base_uri": "https://localhost:8080/",
          "height": 759
        },
        "id": "9MSIRwoanjNa",
        "outputId": "93d9925f-8e5d-4137-d918-1dbdc873b44d"
      },
      "outputs": [
        {
          "data": {
            "text/html": [
              "<div>\n",
              "<style scoped>\n",
              "    .dataframe tbody tr th:only-of-type {\n",
              "        vertical-align: middle;\n",
              "    }\n",
              "\n",
              "    .dataframe tbody tr th {\n",
              "        vertical-align: top;\n",
              "    }\n",
              "\n",
              "    .dataframe thead th {\n",
              "        text-align: right;\n",
              "    }\n",
              "</style>\n",
              "<table border=\"1\" class=\"dataframe\">\n",
              "  <thead>\n",
              "    <tr style=\"text-align: right;\">\n",
              "      <th></th>\n",
              "      <th>stn_code</th>\n",
              "      <th>sampling_date</th>\n",
              "      <th>state</th>\n",
              "      <th>location</th>\n",
              "      <th>agency</th>\n",
              "      <th>type</th>\n",
              "      <th>so2</th>\n",
              "      <th>no2</th>\n",
              "      <th>rspm</th>\n",
              "      <th>spm</th>\n",
              "      <th>location_monitoring_station</th>\n",
              "      <th>pm2_5</th>\n",
              "      <th>date</th>\n",
              "    </tr>\n",
              "  </thead>\n",
              "  <tbody>\n",
              "    <tr>\n",
              "      <th>151314</th>\n",
              "      <td>457</td>\n",
              "      <td>31-12-15</td>\n",
              "      <td>Karnataka</td>\n",
              "      <td>Bangalore</td>\n",
              "      <td>Karnataka State Pollution Control Board</td>\n",
              "      <td>Residential, Rural and other Areas</td>\n",
              "      <td>2.0</td>\n",
              "      <td>24.0</td>\n",
              "      <td>74.0</td>\n",
              "      <td>NaN</td>\n",
              "      <td>Yeshwanthpura, Bangalore</td>\n",
              "      <td>NaN</td>\n",
              "      <td>2015-12-31</td>\n",
              "    </tr>\n",
              "    <tr>\n",
              "      <th>150979</th>\n",
              "      <td>406</td>\n",
              "      <td>31-12-15</td>\n",
              "      <td>Karnataka</td>\n",
              "      <td>Bangalore</td>\n",
              "      <td>Karnataka State Pollution Control Board</td>\n",
              "      <td>Sensitive Area</td>\n",
              "      <td>2.0</td>\n",
              "      <td>39.0</td>\n",
              "      <td>258.0</td>\n",
              "      <td>NaN</td>\n",
              "      <td>Victoria Hospital, Bangalore</td>\n",
              "      <td>NaN</td>\n",
              "      <td>2015-12-31</td>\n",
              "    </tr>\n",
              "    <tr>\n",
              "      <th>150855</th>\n",
              "      <td>405</td>\n",
              "      <td>31-12-15</td>\n",
              "      <td>Karnataka</td>\n",
              "      <td>Bangalore</td>\n",
              "      <td>Karnataka State Pollution Control Board</td>\n",
              "      <td>Industrial Area</td>\n",
              "      <td>2.0</td>\n",
              "      <td>21.0</td>\n",
              "      <td>117.0</td>\n",
              "      <td>NaN</td>\n",
              "      <td>Peenya Industrial Area, Bangalore</td>\n",
              "      <td>NaN</td>\n",
              "      <td>2015-12-31</td>\n",
              "    </tr>\n",
              "    <tr>\n",
              "      <th>151313</th>\n",
              "      <td>457</td>\n",
              "      <td>30-12-15</td>\n",
              "      <td>Karnataka</td>\n",
              "      <td>Bangalore</td>\n",
              "      <td>Karnataka State Pollution Control Board</td>\n",
              "      <td>Residential, Rural and other Areas</td>\n",
              "      <td>2.0</td>\n",
              "      <td>13.0</td>\n",
              "      <td>91.0</td>\n",
              "      <td>NaN</td>\n",
              "      <td>Yeshwanthpura, Bangalore</td>\n",
              "      <td>NaN</td>\n",
              "      <td>2015-12-30</td>\n",
              "    </tr>\n",
              "    <tr>\n",
              "      <th>150530</th>\n",
              "      <td>78</td>\n",
              "      <td>30-12-15</td>\n",
              "      <td>Karnataka</td>\n",
              "      <td>Bangalore</td>\n",
              "      <td>Karnataka State Pollution Control Board</td>\n",
              "      <td>Residential, Rural and other Areas</td>\n",
              "      <td>2.0</td>\n",
              "      <td>16.0</td>\n",
              "      <td>182.0</td>\n",
              "      <td>NaN</td>\n",
              "      <td>AMCO Batteries, Mysore Road, Bangalore</td>\n",
              "      <td>NaN</td>\n",
              "      <td>2015-12-30</td>\n",
              "    </tr>\n",
              "    <tr>\n",
              "      <th>...</th>\n",
              "      <td>...</td>\n",
              "      <td>...</td>\n",
              "      <td>...</td>\n",
              "      <td>...</td>\n",
              "      <td>...</td>\n",
              "      <td>...</td>\n",
              "      <td>...</td>\n",
              "      <td>...</td>\n",
              "      <td>...</td>\n",
              "      <td>...</td>\n",
              "      <td>...</td>\n",
              "      <td>...</td>\n",
              "      <td>...</td>\n",
              "    </tr>\n",
              "    <tr>\n",
              "      <th>135532</th>\n",
              "      <td>79</td>\n",
              "      <td>11/2/1988</td>\n",
              "      <td>Karnataka</td>\n",
              "      <td>Bangalore</td>\n",
              "      <td>Karnataka Pollution Control Board</td>\n",
              "      <td>Residential, Rural and other Areas</td>\n",
              "      <td>27.2</td>\n",
              "      <td>20.3</td>\n",
              "      <td>NaN</td>\n",
              "      <td>392.0</td>\n",
              "      <td>NaN</td>\n",
              "      <td>NaN</td>\n",
              "      <td>1988-02-11</td>\n",
              "    </tr>\n",
              "    <tr>\n",
              "      <th>135530</th>\n",
              "      <td>77</td>\n",
              "      <td>11/2/1988</td>\n",
              "      <td>Karnataka</td>\n",
              "      <td>Bangalore</td>\n",
              "      <td>Karnataka Pollution Control Board</td>\n",
              "      <td>Industrial Area</td>\n",
              "      <td>37.2</td>\n",
              "      <td>15.2</td>\n",
              "      <td>NaN</td>\n",
              "      <td>220.0</td>\n",
              "      <td>NaN</td>\n",
              "      <td>NaN</td>\n",
              "      <td>1988-02-11</td>\n",
              "    </tr>\n",
              "    <tr>\n",
              "      <th>135539</th>\n",
              "      <td>78</td>\n",
              "      <td>12/1/1988</td>\n",
              "      <td>Karnataka</td>\n",
              "      <td>Bangalore</td>\n",
              "      <td>Karnataka Pollution Control Board</td>\n",
              "      <td>Industrial Area</td>\n",
              "      <td>30.0</td>\n",
              "      <td>13.3</td>\n",
              "      <td>NaN</td>\n",
              "      <td>239.0</td>\n",
              "      <td>NaN</td>\n",
              "      <td>NaN</td>\n",
              "      <td>1988-01-12</td>\n",
              "    </tr>\n",
              "    <tr>\n",
              "      <th>135541</th>\n",
              "      <td>80</td>\n",
              "      <td>12/1/1988</td>\n",
              "      <td>Karnataka</td>\n",
              "      <td>Bangalore</td>\n",
              "      <td>Karnataka Pollution Control Board</td>\n",
              "      <td>Industrial Area</td>\n",
              "      <td>18.7</td>\n",
              "      <td>11.1</td>\n",
              "      <td>NaN</td>\n",
              "      <td>246.0</td>\n",
              "      <td>NaN</td>\n",
              "      <td>NaN</td>\n",
              "      <td>1988-01-12</td>\n",
              "    </tr>\n",
              "    <tr>\n",
              "      <th>148537</th>\n",
              "      <td>598</td>\n",
              "      <td>31/9/2014</td>\n",
              "      <td>Karnataka</td>\n",
              "      <td>Bangalore</td>\n",
              "      <td>Karnataka State Pollution Control Board</td>\n",
              "      <td>Sensitive Area</td>\n",
              "      <td>6.0</td>\n",
              "      <td>8.0</td>\n",
              "      <td>25.0</td>\n",
              "      <td>NaN</td>\n",
              "      <td>Department of Environmental Science, Jnanabhar...</td>\n",
              "      <td>NaN</td>\n",
              "      <td>NaN</td>\n",
              "    </tr>\n",
              "  </tbody>\n",
              "</table>\n",
              "<p>6660 rows × 13 columns</p>\n",
              "</div>"
            ],
            "text/plain": [
              "       stn_code sampling_date  ... pm2_5        date\n",
              "151314      457      31-12-15  ...   NaN  2015-12-31\n",
              "150979      406      31-12-15  ...   NaN  2015-12-31\n",
              "150855      405      31-12-15  ...   NaN  2015-12-31\n",
              "151313      457      30-12-15  ...   NaN  2015-12-30\n",
              "150530       78      30-12-15  ...   NaN  2015-12-30\n",
              "...         ...           ...  ...   ...         ...\n",
              "135532       79     11/2/1988  ...   NaN  1988-02-11\n",
              "135530       77     11/2/1988  ...   NaN  1988-02-11\n",
              "135539       78     12/1/1988  ...   NaN  1988-01-12\n",
              "135541       80     12/1/1988  ...   NaN  1988-01-12\n",
              "148537      598     31/9/2014  ...   NaN         NaN\n",
              "\n",
              "[6660 rows x 13 columns]"
            ]
          },
          "execution_count": 13,
          "metadata": {
            "tags": []
          },
          "output_type": "execute_result"
        }
      ],
      "source": [
        "df_blr.sort_values(by=\"date\",ascending=False)"
      ]
    },
    {
      "cell_type": "markdown",
      "metadata": {
        "id": "-vCg4ocFpHub"
      },
      "source": [
        "### Since we have 2 date based columns, i.e \"sampling_date\" and \"date\" we choose to drop the colummn sampling_data as it is of random formats."
      ]
    },
    {
      "cell_type": "code",
      "execution_count": null,
      "metadata": {
        "colab": {
          "base_uri": "https://localhost:8080/",
          "height": 589
        },
        "id": "EoC0xqPNo0SQ",
        "outputId": "9bcc10fc-0ec8-4ed1-94e0-b295f14fb6cd"
      },
      "outputs": [
        {
          "data": {
            "text/html": [
              "<div>\n",
              "<style scoped>\n",
              "    .dataframe tbody tr th:only-of-type {\n",
              "        vertical-align: middle;\n",
              "    }\n",
              "\n",
              "    .dataframe tbody tr th {\n",
              "        vertical-align: top;\n",
              "    }\n",
              "\n",
              "    .dataframe thead th {\n",
              "        text-align: right;\n",
              "    }\n",
              "</style>\n",
              "<table border=\"1\" class=\"dataframe\">\n",
              "  <thead>\n",
              "    <tr style=\"text-align: right;\">\n",
              "      <th></th>\n",
              "      <th>stn_code</th>\n",
              "      <th>state</th>\n",
              "      <th>location</th>\n",
              "      <th>agency</th>\n",
              "      <th>type</th>\n",
              "      <th>so2</th>\n",
              "      <th>no2</th>\n",
              "      <th>rspm</th>\n",
              "      <th>spm</th>\n",
              "      <th>location_monitoring_station</th>\n",
              "      <th>pm2_5</th>\n",
              "      <th>date</th>\n",
              "    </tr>\n",
              "  </thead>\n",
              "  <tbody>\n",
              "    <tr>\n",
              "      <th>135530</th>\n",
              "      <td>77</td>\n",
              "      <td>Karnataka</td>\n",
              "      <td>Bangalore</td>\n",
              "      <td>Karnataka Pollution Control Board</td>\n",
              "      <td>Industrial Area</td>\n",
              "      <td>37.2</td>\n",
              "      <td>15.2</td>\n",
              "      <td>NaN</td>\n",
              "      <td>220.0</td>\n",
              "      <td>NaN</td>\n",
              "      <td>NaN</td>\n",
              "      <td>1988-02-11</td>\n",
              "    </tr>\n",
              "    <tr>\n",
              "      <th>135531</th>\n",
              "      <td>78</td>\n",
              "      <td>Karnataka</td>\n",
              "      <td>Bangalore</td>\n",
              "      <td>Karnataka Pollution Control Board</td>\n",
              "      <td>Industrial Area</td>\n",
              "      <td>77.9</td>\n",
              "      <td>32.0</td>\n",
              "      <td>NaN</td>\n",
              "      <td>142.0</td>\n",
              "      <td>NaN</td>\n",
              "      <td>NaN</td>\n",
              "      <td>1988-03-11</td>\n",
              "    </tr>\n",
              "    <tr>\n",
              "      <th>135532</th>\n",
              "      <td>79</td>\n",
              "      <td>Karnataka</td>\n",
              "      <td>Bangalore</td>\n",
              "      <td>Karnataka Pollution Control Board</td>\n",
              "      <td>Residential, Rural and other Areas</td>\n",
              "      <td>27.2</td>\n",
              "      <td>20.3</td>\n",
              "      <td>NaN</td>\n",
              "      <td>392.0</td>\n",
              "      <td>NaN</td>\n",
              "      <td>NaN</td>\n",
              "      <td>1988-02-11</td>\n",
              "    </tr>\n",
              "    <tr>\n",
              "      <th>135533</th>\n",
              "      <td>80</td>\n",
              "      <td>Karnataka</td>\n",
              "      <td>Bangalore</td>\n",
              "      <td>Karnataka Pollution Control Board</td>\n",
              "      <td>Industrial Area</td>\n",
              "      <td>23.1</td>\n",
              "      <td>13.4</td>\n",
              "      <td>NaN</td>\n",
              "      <td>356.0</td>\n",
              "      <td>NaN</td>\n",
              "      <td>NaN</td>\n",
              "      <td>1988-03-11</td>\n",
              "    </tr>\n",
              "    <tr>\n",
              "      <th>135534</th>\n",
              "      <td>81</td>\n",
              "      <td>Karnataka</td>\n",
              "      <td>Bangalore</td>\n",
              "      <td>Karnataka Pollution Control Board</td>\n",
              "      <td>Residential, Rural and other Areas</td>\n",
              "      <td>26.3</td>\n",
              "      <td>11.2</td>\n",
              "      <td>NaN</td>\n",
              "      <td>150.0</td>\n",
              "      <td>NaN</td>\n",
              "      <td>NaN</td>\n",
              "      <td>1988-02-11</td>\n",
              "    </tr>\n",
              "    <tr>\n",
              "      <th>...</th>\n",
              "      <td>...</td>\n",
              "      <td>...</td>\n",
              "      <td>...</td>\n",
              "      <td>...</td>\n",
              "      <td>...</td>\n",
              "      <td>...</td>\n",
              "      <td>...</td>\n",
              "      <td>...</td>\n",
              "      <td>...</td>\n",
              "      <td>...</td>\n",
              "      <td>...</td>\n",
              "      <td>...</td>\n",
              "    </tr>\n",
              "    <tr>\n",
              "      <th>151687</th>\n",
              "      <td>598</td>\n",
              "      <td>Karnataka</td>\n",
              "      <td>Bangalore</td>\n",
              "      <td>Karnataka State Pollution Control Board</td>\n",
              "      <td>Sensitive Area</td>\n",
              "      <td>14.0</td>\n",
              "      <td>14.0</td>\n",
              "      <td>53.0</td>\n",
              "      <td>NaN</td>\n",
              "      <td>Department of Environmental Science, Jnanabhar...</td>\n",
              "      <td>NaN</td>\n",
              "      <td>2015-03-17</td>\n",
              "    </tr>\n",
              "    <tr>\n",
              "      <th>151688</th>\n",
              "      <td>598</td>\n",
              "      <td>Karnataka</td>\n",
              "      <td>Bangalore</td>\n",
              "      <td>Karnataka State Pollution Control Board</td>\n",
              "      <td>Sensitive Area</td>\n",
              "      <td>17.0</td>\n",
              "      <td>27.0</td>\n",
              "      <td>69.0</td>\n",
              "      <td>NaN</td>\n",
              "      <td>Department of Environmental Science, Jnanabhar...</td>\n",
              "      <td>NaN</td>\n",
              "      <td>2015-03-19</td>\n",
              "    </tr>\n",
              "    <tr>\n",
              "      <th>151689</th>\n",
              "      <td>598</td>\n",
              "      <td>Karnataka</td>\n",
              "      <td>Bangalore</td>\n",
              "      <td>Karnataka State Pollution Control Board</td>\n",
              "      <td>Sensitive Area</td>\n",
              "      <td>12.0</td>\n",
              "      <td>16.0</td>\n",
              "      <td>53.0</td>\n",
              "      <td>NaN</td>\n",
              "      <td>Department of Environmental Science, Jnanabhar...</td>\n",
              "      <td>NaN</td>\n",
              "      <td>2015-03-25</td>\n",
              "    </tr>\n",
              "    <tr>\n",
              "      <th>151690</th>\n",
              "      <td>598</td>\n",
              "      <td>Karnataka</td>\n",
              "      <td>Bangalore</td>\n",
              "      <td>Karnataka State Pollution Control Board</td>\n",
              "      <td>Sensitive Area</td>\n",
              "      <td>11.0</td>\n",
              "      <td>23.0</td>\n",
              "      <td>70.0</td>\n",
              "      <td>NaN</td>\n",
              "      <td>Department of Environmental Science, Jnanabhar...</td>\n",
              "      <td>NaN</td>\n",
              "      <td>2015-03-26</td>\n",
              "    </tr>\n",
              "    <tr>\n",
              "      <th>151691</th>\n",
              "      <td>598</td>\n",
              "      <td>Karnataka</td>\n",
              "      <td>Bangalore</td>\n",
              "      <td>Karnataka State Pollution Control Board</td>\n",
              "      <td>Sensitive Area</td>\n",
              "      <td>11.0</td>\n",
              "      <td>17.0</td>\n",
              "      <td>60.0</td>\n",
              "      <td>NaN</td>\n",
              "      <td>Department of Environmental Science, Jnanabhar...</td>\n",
              "      <td>NaN</td>\n",
              "      <td>2015-03-30</td>\n",
              "    </tr>\n",
              "  </tbody>\n",
              "</table>\n",
              "<p>6660 rows × 12 columns</p>\n",
              "</div>"
            ],
            "text/plain": [
              "       stn_code      state  ... pm2_5        date\n",
              "135530       77  Karnataka  ...   NaN  1988-02-11\n",
              "135531       78  Karnataka  ...   NaN  1988-03-11\n",
              "135532       79  Karnataka  ...   NaN  1988-02-11\n",
              "135533       80  Karnataka  ...   NaN  1988-03-11\n",
              "135534       81  Karnataka  ...   NaN  1988-02-11\n",
              "...         ...        ...  ...   ...         ...\n",
              "151687      598  Karnataka  ...   NaN  2015-03-17\n",
              "151688      598  Karnataka  ...   NaN  2015-03-19\n",
              "151689      598  Karnataka  ...   NaN  2015-03-25\n",
              "151690      598  Karnataka  ...   NaN  2015-03-26\n",
              "151691      598  Karnataka  ...   NaN  2015-03-30\n",
              "\n",
              "[6660 rows x 12 columns]"
            ]
          },
          "execution_count": 14,
          "metadata": {
            "tags": []
          },
          "output_type": "execute_result"
        }
      ],
      "source": [
        "df_blr=df_blr.drop(columns=\"sampling_date\")\n",
        "df_blr"
      ]
    },
    {
      "cell_type": "markdown",
      "metadata": {
        "id": "6XBUwiAMpqHj"
      },
      "source": [
        "### The column pm2_5 is dropped because everything in it is a NaN value."
      ]
    },
    {
      "cell_type": "code",
      "execution_count": null,
      "metadata": {
        "id": "Pg7kj3dTpvq5"
      },
      "outputs": [],
      "source": [
        "df_blr=df_blr.drop(columns=\"pm2_5\")\n"
      ]
    },
    {
      "cell_type": "code",
      "execution_count": null,
      "metadata": {
        "colab": {
          "base_uri": "https://localhost:8080/",
          "height": 589
        },
        "id": "OLsuotMdp0eA",
        "outputId": "6766ede0-edb2-47b4-b896-fc41a679145d"
      },
      "outputs": [
        {
          "data": {
            "text/html": [
              "<div>\n",
              "<style scoped>\n",
              "    .dataframe tbody tr th:only-of-type {\n",
              "        vertical-align: middle;\n",
              "    }\n",
              "\n",
              "    .dataframe tbody tr th {\n",
              "        vertical-align: top;\n",
              "    }\n",
              "\n",
              "    .dataframe thead th {\n",
              "        text-align: right;\n",
              "    }\n",
              "</style>\n",
              "<table border=\"1\" class=\"dataframe\">\n",
              "  <thead>\n",
              "    <tr style=\"text-align: right;\">\n",
              "      <th></th>\n",
              "      <th>stn_code</th>\n",
              "      <th>state</th>\n",
              "      <th>location</th>\n",
              "      <th>agency</th>\n",
              "      <th>type</th>\n",
              "      <th>so2</th>\n",
              "      <th>no2</th>\n",
              "      <th>rspm</th>\n",
              "      <th>spm</th>\n",
              "      <th>location_monitoring_station</th>\n",
              "      <th>date</th>\n",
              "    </tr>\n",
              "  </thead>\n",
              "  <tbody>\n",
              "    <tr>\n",
              "      <th>135530</th>\n",
              "      <td>77</td>\n",
              "      <td>Karnataka</td>\n",
              "      <td>Bangalore</td>\n",
              "      <td>Karnataka Pollution Control Board</td>\n",
              "      <td>Industrial Area</td>\n",
              "      <td>37.2</td>\n",
              "      <td>15.2</td>\n",
              "      <td>NaN</td>\n",
              "      <td>220.0</td>\n",
              "      <td>NaN</td>\n",
              "      <td>1988-02-11</td>\n",
              "    </tr>\n",
              "    <tr>\n",
              "      <th>135531</th>\n",
              "      <td>78</td>\n",
              "      <td>Karnataka</td>\n",
              "      <td>Bangalore</td>\n",
              "      <td>Karnataka Pollution Control Board</td>\n",
              "      <td>Industrial Area</td>\n",
              "      <td>77.9</td>\n",
              "      <td>32.0</td>\n",
              "      <td>NaN</td>\n",
              "      <td>142.0</td>\n",
              "      <td>NaN</td>\n",
              "      <td>1988-03-11</td>\n",
              "    </tr>\n",
              "    <tr>\n",
              "      <th>135532</th>\n",
              "      <td>79</td>\n",
              "      <td>Karnataka</td>\n",
              "      <td>Bangalore</td>\n",
              "      <td>Karnataka Pollution Control Board</td>\n",
              "      <td>Residential, Rural and other Areas</td>\n",
              "      <td>27.2</td>\n",
              "      <td>20.3</td>\n",
              "      <td>NaN</td>\n",
              "      <td>392.0</td>\n",
              "      <td>NaN</td>\n",
              "      <td>1988-02-11</td>\n",
              "    </tr>\n",
              "    <tr>\n",
              "      <th>135533</th>\n",
              "      <td>80</td>\n",
              "      <td>Karnataka</td>\n",
              "      <td>Bangalore</td>\n",
              "      <td>Karnataka Pollution Control Board</td>\n",
              "      <td>Industrial Area</td>\n",
              "      <td>23.1</td>\n",
              "      <td>13.4</td>\n",
              "      <td>NaN</td>\n",
              "      <td>356.0</td>\n",
              "      <td>NaN</td>\n",
              "      <td>1988-03-11</td>\n",
              "    </tr>\n",
              "    <tr>\n",
              "      <th>135534</th>\n",
              "      <td>81</td>\n",
              "      <td>Karnataka</td>\n",
              "      <td>Bangalore</td>\n",
              "      <td>Karnataka Pollution Control Board</td>\n",
              "      <td>Residential, Rural and other Areas</td>\n",
              "      <td>26.3</td>\n",
              "      <td>11.2</td>\n",
              "      <td>NaN</td>\n",
              "      <td>150.0</td>\n",
              "      <td>NaN</td>\n",
              "      <td>1988-02-11</td>\n",
              "    </tr>\n",
              "    <tr>\n",
              "      <th>...</th>\n",
              "      <td>...</td>\n",
              "      <td>...</td>\n",
              "      <td>...</td>\n",
              "      <td>...</td>\n",
              "      <td>...</td>\n",
              "      <td>...</td>\n",
              "      <td>...</td>\n",
              "      <td>...</td>\n",
              "      <td>...</td>\n",
              "      <td>...</td>\n",
              "      <td>...</td>\n",
              "    </tr>\n",
              "    <tr>\n",
              "      <th>151687</th>\n",
              "      <td>598</td>\n",
              "      <td>Karnataka</td>\n",
              "      <td>Bangalore</td>\n",
              "      <td>Karnataka State Pollution Control Board</td>\n",
              "      <td>Sensitive Area</td>\n",
              "      <td>14.0</td>\n",
              "      <td>14.0</td>\n",
              "      <td>53.0</td>\n",
              "      <td>NaN</td>\n",
              "      <td>Department of Environmental Science, Jnanabhar...</td>\n",
              "      <td>2015-03-17</td>\n",
              "    </tr>\n",
              "    <tr>\n",
              "      <th>151688</th>\n",
              "      <td>598</td>\n",
              "      <td>Karnataka</td>\n",
              "      <td>Bangalore</td>\n",
              "      <td>Karnataka State Pollution Control Board</td>\n",
              "      <td>Sensitive Area</td>\n",
              "      <td>17.0</td>\n",
              "      <td>27.0</td>\n",
              "      <td>69.0</td>\n",
              "      <td>NaN</td>\n",
              "      <td>Department of Environmental Science, Jnanabhar...</td>\n",
              "      <td>2015-03-19</td>\n",
              "    </tr>\n",
              "    <tr>\n",
              "      <th>151689</th>\n",
              "      <td>598</td>\n",
              "      <td>Karnataka</td>\n",
              "      <td>Bangalore</td>\n",
              "      <td>Karnataka State Pollution Control Board</td>\n",
              "      <td>Sensitive Area</td>\n",
              "      <td>12.0</td>\n",
              "      <td>16.0</td>\n",
              "      <td>53.0</td>\n",
              "      <td>NaN</td>\n",
              "      <td>Department of Environmental Science, Jnanabhar...</td>\n",
              "      <td>2015-03-25</td>\n",
              "    </tr>\n",
              "    <tr>\n",
              "      <th>151690</th>\n",
              "      <td>598</td>\n",
              "      <td>Karnataka</td>\n",
              "      <td>Bangalore</td>\n",
              "      <td>Karnataka State Pollution Control Board</td>\n",
              "      <td>Sensitive Area</td>\n",
              "      <td>11.0</td>\n",
              "      <td>23.0</td>\n",
              "      <td>70.0</td>\n",
              "      <td>NaN</td>\n",
              "      <td>Department of Environmental Science, Jnanabhar...</td>\n",
              "      <td>2015-03-26</td>\n",
              "    </tr>\n",
              "    <tr>\n",
              "      <th>151691</th>\n",
              "      <td>598</td>\n",
              "      <td>Karnataka</td>\n",
              "      <td>Bangalore</td>\n",
              "      <td>Karnataka State Pollution Control Board</td>\n",
              "      <td>Sensitive Area</td>\n",
              "      <td>11.0</td>\n",
              "      <td>17.0</td>\n",
              "      <td>60.0</td>\n",
              "      <td>NaN</td>\n",
              "      <td>Department of Environmental Science, Jnanabhar...</td>\n",
              "      <td>2015-03-30</td>\n",
              "    </tr>\n",
              "  </tbody>\n",
              "</table>\n",
              "<p>6660 rows × 11 columns</p>\n",
              "</div>"
            ],
            "text/plain": [
              "       stn_code  ...        date\n",
              "135530       77  ...  1988-02-11\n",
              "135531       78  ...  1988-03-11\n",
              "135532       79  ...  1988-02-11\n",
              "135533       80  ...  1988-03-11\n",
              "135534       81  ...  1988-02-11\n",
              "...         ...  ...         ...\n",
              "151687      598  ...  2015-03-17\n",
              "151688      598  ...  2015-03-19\n",
              "151689      598  ...  2015-03-25\n",
              "151690      598  ...  2015-03-26\n",
              "151691      598  ...  2015-03-30\n",
              "\n",
              "[6660 rows x 11 columns]"
            ]
          },
          "execution_count": 16,
          "metadata": {
            "tags": []
          },
          "output_type": "execute_result"
        }
      ],
      "source": [
        "df_blr"
      ]
    },
    {
      "cell_type": "markdown",
      "metadata": {
        "id": "wL6IIxLEroau"
      },
      "source": [
        "### The dataset is split into smaller datasets each containing data from 5 years."
      ]
    },
    {
      "cell_type": "code",
      "execution_count": null,
      "metadata": {
        "colab": {
          "base_uri": "https://localhost:8080/",
          "height": 589
        },
        "id": "JJPaqov0vLJ9",
        "outputId": "00aa0e8d-03f0-4335-e296-fc68efa09ab6"
      },
      "outputs": [
        {
          "data": {
            "text/html": [
              "<div>\n",
              "<style scoped>\n",
              "    .dataframe tbody tr th:only-of-type {\n",
              "        vertical-align: middle;\n",
              "    }\n",
              "\n",
              "    .dataframe tbody tr th {\n",
              "        vertical-align: top;\n",
              "    }\n",
              "\n",
              "    .dataframe thead th {\n",
              "        text-align: right;\n",
              "    }\n",
              "</style>\n",
              "<table border=\"1\" class=\"dataframe\">\n",
              "  <thead>\n",
              "    <tr style=\"text-align: right;\">\n",
              "      <th></th>\n",
              "      <th>stn_code</th>\n",
              "      <th>state</th>\n",
              "      <th>location</th>\n",
              "      <th>agency</th>\n",
              "      <th>type</th>\n",
              "      <th>so2</th>\n",
              "      <th>no2</th>\n",
              "      <th>rspm</th>\n",
              "      <th>spm</th>\n",
              "      <th>location_monitoring_station</th>\n",
              "      <th>date</th>\n",
              "    </tr>\n",
              "  </thead>\n",
              "  <tbody>\n",
              "    <tr>\n",
              "      <th>135530</th>\n",
              "      <td>77</td>\n",
              "      <td>Karnataka</td>\n",
              "      <td>Bangalore</td>\n",
              "      <td>Karnataka Pollution Control Board</td>\n",
              "      <td>Industrial Area</td>\n",
              "      <td>37.2</td>\n",
              "      <td>15.2</td>\n",
              "      <td>NaN</td>\n",
              "      <td>220.0</td>\n",
              "      <td>NaN</td>\n",
              "      <td>1988-02-11</td>\n",
              "    </tr>\n",
              "    <tr>\n",
              "      <th>135531</th>\n",
              "      <td>78</td>\n",
              "      <td>Karnataka</td>\n",
              "      <td>Bangalore</td>\n",
              "      <td>Karnataka Pollution Control Board</td>\n",
              "      <td>Industrial Area</td>\n",
              "      <td>77.9</td>\n",
              "      <td>32.0</td>\n",
              "      <td>NaN</td>\n",
              "      <td>142.0</td>\n",
              "      <td>NaN</td>\n",
              "      <td>1988-03-11</td>\n",
              "    </tr>\n",
              "    <tr>\n",
              "      <th>135532</th>\n",
              "      <td>79</td>\n",
              "      <td>Karnataka</td>\n",
              "      <td>Bangalore</td>\n",
              "      <td>Karnataka Pollution Control Board</td>\n",
              "      <td>Residential, Rural and other Areas</td>\n",
              "      <td>27.2</td>\n",
              "      <td>20.3</td>\n",
              "      <td>NaN</td>\n",
              "      <td>392.0</td>\n",
              "      <td>NaN</td>\n",
              "      <td>1988-02-11</td>\n",
              "    </tr>\n",
              "    <tr>\n",
              "      <th>135533</th>\n",
              "      <td>80</td>\n",
              "      <td>Karnataka</td>\n",
              "      <td>Bangalore</td>\n",
              "      <td>Karnataka Pollution Control Board</td>\n",
              "      <td>Industrial Area</td>\n",
              "      <td>23.1</td>\n",
              "      <td>13.4</td>\n",
              "      <td>NaN</td>\n",
              "      <td>356.0</td>\n",
              "      <td>NaN</td>\n",
              "      <td>1988-03-11</td>\n",
              "    </tr>\n",
              "    <tr>\n",
              "      <th>135534</th>\n",
              "      <td>81</td>\n",
              "      <td>Karnataka</td>\n",
              "      <td>Bangalore</td>\n",
              "      <td>Karnataka Pollution Control Board</td>\n",
              "      <td>Residential, Rural and other Areas</td>\n",
              "      <td>26.3</td>\n",
              "      <td>11.2</td>\n",
              "      <td>NaN</td>\n",
              "      <td>150.0</td>\n",
              "      <td>NaN</td>\n",
              "      <td>1988-02-11</td>\n",
              "    </tr>\n",
              "    <tr>\n",
              "      <th>...</th>\n",
              "      <td>...</td>\n",
              "      <td>...</td>\n",
              "      <td>...</td>\n",
              "      <td>...</td>\n",
              "      <td>...</td>\n",
              "      <td>...</td>\n",
              "      <td>...</td>\n",
              "      <td>...</td>\n",
              "      <td>...</td>\n",
              "      <td>...</td>\n",
              "      <td>...</td>\n",
              "    </tr>\n",
              "    <tr>\n",
              "      <th>135765</th>\n",
              "      <td>80</td>\n",
              "      <td>Karnataka</td>\n",
              "      <td>Bangalore</td>\n",
              "      <td>Karnataka Pollution Control Board</td>\n",
              "      <td>Industrial Area</td>\n",
              "      <td>5.3</td>\n",
              "      <td>6.0</td>\n",
              "      <td>NaN</td>\n",
              "      <td>50.0</td>\n",
              "      <td>NaN</td>\n",
              "      <td>1991-07-01</td>\n",
              "    </tr>\n",
              "    <tr>\n",
              "      <th>135769</th>\n",
              "      <td>78</td>\n",
              "      <td>Karnataka</td>\n",
              "      <td>Bangalore</td>\n",
              "      <td>Karnataka Pollution Control Board</td>\n",
              "      <td>Industrial Area</td>\n",
              "      <td>24.2</td>\n",
              "      <td>19.8</td>\n",
              "      <td>NaN</td>\n",
              "      <td>138.0</td>\n",
              "      <td>NaN</td>\n",
              "      <td>1991-08-01</td>\n",
              "    </tr>\n",
              "    <tr>\n",
              "      <th>135770</th>\n",
              "      <td>80</td>\n",
              "      <td>Karnataka</td>\n",
              "      <td>Bangalore</td>\n",
              "      <td>Karnataka Pollution Control Board</td>\n",
              "      <td>Industrial Area</td>\n",
              "      <td>11.7</td>\n",
              "      <td>6.3</td>\n",
              "      <td>NaN</td>\n",
              "      <td>23.0</td>\n",
              "      <td>NaN</td>\n",
              "      <td>1991-08-01</td>\n",
              "    </tr>\n",
              "    <tr>\n",
              "      <th>135782</th>\n",
              "      <td>78</td>\n",
              "      <td>Karnataka</td>\n",
              "      <td>Bangalore</td>\n",
              "      <td>Karnataka Pollution Control Board</td>\n",
              "      <td>Industrial Area</td>\n",
              "      <td>NaN</td>\n",
              "      <td>NaN</td>\n",
              "      <td>NaN</td>\n",
              "      <td>78.0</td>\n",
              "      <td>NaN</td>\n",
              "      <td>1992-02-01</td>\n",
              "    </tr>\n",
              "    <tr>\n",
              "      <th>135783</th>\n",
              "      <td>79</td>\n",
              "      <td>Karnataka</td>\n",
              "      <td>Bangalore</td>\n",
              "      <td>Karnataka Pollution Control Board</td>\n",
              "      <td>Residential, Rural and other Areas</td>\n",
              "      <td>NaN</td>\n",
              "      <td>NaN</td>\n",
              "      <td>NaN</td>\n",
              "      <td>NaN</td>\n",
              "      <td>NaN</td>\n",
              "      <td>1992-06-01</td>\n",
              "    </tr>\n",
              "  </tbody>\n",
              "</table>\n",
              "<p>156 rows × 11 columns</p>\n",
              "</div>"
            ],
            "text/plain": [
              "       stn_code      state  ... location_monitoring_station        date\n",
              "135530       77  Karnataka  ...                         NaN  1988-02-11\n",
              "135531       78  Karnataka  ...                         NaN  1988-03-11\n",
              "135532       79  Karnataka  ...                         NaN  1988-02-11\n",
              "135533       80  Karnataka  ...                         NaN  1988-03-11\n",
              "135534       81  Karnataka  ...                         NaN  1988-02-11\n",
              "...         ...        ...  ...                         ...         ...\n",
              "135765       80  Karnataka  ...                         NaN  1991-07-01\n",
              "135769       78  Karnataka  ...                         NaN  1991-08-01\n",
              "135770       80  Karnataka  ...                         NaN  1991-08-01\n",
              "135782       78  Karnataka  ...                         NaN  1992-02-01\n",
              "135783       79  Karnataka  ...                         NaN  1992-06-01\n",
              "\n",
              "[156 rows x 11 columns]"
            ]
          },
          "execution_count": 17,
          "metadata": {
            "tags": []
          },
          "output_type": "execute_result"
        }
      ],
      "source": [
        "df_blr_1995 = df_blr.loc[df_blr['date'] < '1995-01-01']\n",
        "df_blr_1995"
      ]
    },
    {
      "cell_type": "code",
      "execution_count": null,
      "metadata": {
        "colab": {
          "base_uri": "https://localhost:8080/",
          "height": 589
        },
        "id": "arixgSTBveRO",
        "outputId": "688b37fd-c323-40e1-fe3d-ff51c3297c1e"
      },
      "outputs": [
        {
          "data": {
            "text/html": [
              "<div>\n",
              "<style scoped>\n",
              "    .dataframe tbody tr th:only-of-type {\n",
              "        vertical-align: middle;\n",
              "    }\n",
              "\n",
              "    .dataframe tbody tr th {\n",
              "        vertical-align: top;\n",
              "    }\n",
              "\n",
              "    .dataframe thead th {\n",
              "        text-align: right;\n",
              "    }\n",
              "</style>\n",
              "<table border=\"1\" class=\"dataframe\">\n",
              "  <thead>\n",
              "    <tr style=\"text-align: right;\">\n",
              "      <th></th>\n",
              "      <th>stn_code</th>\n",
              "      <th>state</th>\n",
              "      <th>location</th>\n",
              "      <th>agency</th>\n",
              "      <th>type</th>\n",
              "      <th>so2</th>\n",
              "      <th>no2</th>\n",
              "      <th>rspm</th>\n",
              "      <th>spm</th>\n",
              "      <th>location_monitoring_station</th>\n",
              "      <th>date</th>\n",
              "    </tr>\n",
              "  </thead>\n",
              "  <tbody>\n",
              "    <tr>\n",
              "      <th>135838</th>\n",
              "      <td>77</td>\n",
              "      <td>Karnataka</td>\n",
              "      <td>Bangalore</td>\n",
              "      <td>Karnataka Pollution Control Board</td>\n",
              "      <td>Industrial Area</td>\n",
              "      <td>NaN</td>\n",
              "      <td>NaN</td>\n",
              "      <td>NaN</td>\n",
              "      <td>NaN</td>\n",
              "      <td>NaN</td>\n",
              "      <td>1995-01-01</td>\n",
              "    </tr>\n",
              "    <tr>\n",
              "      <th>135839</th>\n",
              "      <td>77</td>\n",
              "      <td>Karnataka</td>\n",
              "      <td>Bangalore</td>\n",
              "      <td>Karnataka Pollution Control Board</td>\n",
              "      <td>Industrial Area</td>\n",
              "      <td>NaN</td>\n",
              "      <td>NaN</td>\n",
              "      <td>NaN</td>\n",
              "      <td>NaN</td>\n",
              "      <td>NaN</td>\n",
              "      <td>1995-02-01</td>\n",
              "    </tr>\n",
              "    <tr>\n",
              "      <th>135840</th>\n",
              "      <td>77</td>\n",
              "      <td>Karnataka</td>\n",
              "      <td>Bangalore</td>\n",
              "      <td>Karnataka Pollution Control Board</td>\n",
              "      <td>Industrial Area</td>\n",
              "      <td>NaN</td>\n",
              "      <td>NaN</td>\n",
              "      <td>NaN</td>\n",
              "      <td>NaN</td>\n",
              "      <td>NaN</td>\n",
              "      <td>1995-03-01</td>\n",
              "    </tr>\n",
              "    <tr>\n",
              "      <th>135841</th>\n",
              "      <td>77</td>\n",
              "      <td>Karnataka</td>\n",
              "      <td>Bangalore</td>\n",
              "      <td>Karnataka Pollution Control Board</td>\n",
              "      <td>Industrial Area</td>\n",
              "      <td>NaN</td>\n",
              "      <td>NaN</td>\n",
              "      <td>NaN</td>\n",
              "      <td>NaN</td>\n",
              "      <td>NaN</td>\n",
              "      <td>1995-04-01</td>\n",
              "    </tr>\n",
              "    <tr>\n",
              "      <th>135842</th>\n",
              "      <td>77</td>\n",
              "      <td>Karnataka</td>\n",
              "      <td>Bangalore</td>\n",
              "      <td>Karnataka Pollution Control Board</td>\n",
              "      <td>Industrial Area</td>\n",
              "      <td>NaN</td>\n",
              "      <td>NaN</td>\n",
              "      <td>NaN</td>\n",
              "      <td>NaN</td>\n",
              "      <td>NaN</td>\n",
              "      <td>1995-05-01</td>\n",
              "    </tr>\n",
              "    <tr>\n",
              "      <th>...</th>\n",
              "      <td>...</td>\n",
              "      <td>...</td>\n",
              "      <td>...</td>\n",
              "      <td>...</td>\n",
              "      <td>...</td>\n",
              "      <td>...</td>\n",
              "      <td>...</td>\n",
              "      <td>...</td>\n",
              "      <td>...</td>\n",
              "      <td>...</td>\n",
              "      <td>...</td>\n",
              "    </tr>\n",
              "    <tr>\n",
              "      <th>136641</th>\n",
              "      <td>406</td>\n",
              "      <td>Karnataka</td>\n",
              "      <td>Bangalore</td>\n",
              "      <td>Karnataka State Pollution Control Board</td>\n",
              "      <td>Sensitive Area</td>\n",
              "      <td>6.0</td>\n",
              "      <td>41.0</td>\n",
              "      <td>57.00</td>\n",
              "      <td>122.0</td>\n",
              "      <td>Victoria Hospital, Bangalore</td>\n",
              "      <td>2004-12-16</td>\n",
              "    </tr>\n",
              "    <tr>\n",
              "      <th>136642</th>\n",
              "      <td>406</td>\n",
              "      <td>Karnataka</td>\n",
              "      <td>Bangalore</td>\n",
              "      <td>Karnataka State Pollution Control Board</td>\n",
              "      <td>Sensitive Area</td>\n",
              "      <td>8.0</td>\n",
              "      <td>65.0</td>\n",
              "      <td>89.00</td>\n",
              "      <td>186.0</td>\n",
              "      <td>Victoria Hospital, Bangalore</td>\n",
              "      <td>2004-12-21</td>\n",
              "    </tr>\n",
              "    <tr>\n",
              "      <th>136643</th>\n",
              "      <td>406</td>\n",
              "      <td>Karnataka</td>\n",
              "      <td>Bangalore</td>\n",
              "      <td>Karnataka State Pollution Control Board</td>\n",
              "      <td>Sensitive Area</td>\n",
              "      <td>8.0</td>\n",
              "      <td>61.0</td>\n",
              "      <td>82.00</td>\n",
              "      <td>237.0</td>\n",
              "      <td>Victoria Hospital, Bangalore</td>\n",
              "      <td>2004-12-23</td>\n",
              "    </tr>\n",
              "    <tr>\n",
              "      <th>136644</th>\n",
              "      <td>406</td>\n",
              "      <td>Karnataka</td>\n",
              "      <td>Bangalore</td>\n",
              "      <td>Karnataka State Pollution Control Board</td>\n",
              "      <td>Sensitive Area</td>\n",
              "      <td>9.0</td>\n",
              "      <td>42.0</td>\n",
              "      <td>70.67</td>\n",
              "      <td>181.0</td>\n",
              "      <td>Victoria Hospital, Bangalore</td>\n",
              "      <td>2004-12-27</td>\n",
              "    </tr>\n",
              "    <tr>\n",
              "      <th>136645</th>\n",
              "      <td>406</td>\n",
              "      <td>Karnataka</td>\n",
              "      <td>Bangalore</td>\n",
              "      <td>Karnataka State Pollution Control Board</td>\n",
              "      <td>Sensitive Area</td>\n",
              "      <td>7.0</td>\n",
              "      <td>41.0</td>\n",
              "      <td>76.67</td>\n",
              "      <td>158.0</td>\n",
              "      <td>Victoria Hospital, Bangalore</td>\n",
              "      <td>2004-12-29</td>\n",
              "    </tr>\n",
              "  </tbody>\n",
              "</table>\n",
              "<p>624 rows × 11 columns</p>\n",
              "</div>"
            ],
            "text/plain": [
              "       stn_code      state  ...   location_monitoring_station        date\n",
              "135838       77  Karnataka  ...                           NaN  1995-01-01\n",
              "135839       77  Karnataka  ...                           NaN  1995-02-01\n",
              "135840       77  Karnataka  ...                           NaN  1995-03-01\n",
              "135841       77  Karnataka  ...                           NaN  1995-04-01\n",
              "135842       77  Karnataka  ...                           NaN  1995-05-01\n",
              "...         ...        ...  ...                           ...         ...\n",
              "136641      406  Karnataka  ...  Victoria Hospital, Bangalore  2004-12-16\n",
              "136642      406  Karnataka  ...  Victoria Hospital, Bangalore  2004-12-21\n",
              "136643      406  Karnataka  ...  Victoria Hospital, Bangalore  2004-12-23\n",
              "136644      406  Karnataka  ...  Victoria Hospital, Bangalore  2004-12-27\n",
              "136645      406  Karnataka  ...  Victoria Hospital, Bangalore  2004-12-29\n",
              "\n",
              "[624 rows x 11 columns]"
            ]
          },
          "execution_count": 18,
          "metadata": {
            "tags": []
          },
          "output_type": "execute_result"
        }
      ],
      "source": [
        "\n",
        "df_blr_2005 = df_blr.loc[df_blr['date'] < '2005-01-01']\n",
        "df_blr_2005 = df_blr_2005[df_blr_2005['date'] >= '1995-01-01']\n",
        "df_blr_2005"
      ]
    },
    {
      "cell_type": "code",
      "execution_count": null,
      "metadata": {
        "colab": {
          "base_uri": "https://localhost:8080/",
          "height": 419
        },
        "id": "O_lt-YLIxHvf",
        "outputId": "ed24c6bd-4baa-41af-9389-7b976b50735d"
      },
      "outputs": [
        {
          "data": {
            "text/html": [
              "<div>\n",
              "<style scoped>\n",
              "    .dataframe tbody tr th:only-of-type {\n",
              "        vertical-align: middle;\n",
              "    }\n",
              "\n",
              "    .dataframe tbody tr th {\n",
              "        vertical-align: top;\n",
              "    }\n",
              "\n",
              "    .dataframe thead th {\n",
              "        text-align: right;\n",
              "    }\n",
              "</style>\n",
              "<table border=\"1\" class=\"dataframe\">\n",
              "  <thead>\n",
              "    <tr style=\"text-align: right;\">\n",
              "      <th></th>\n",
              "      <th>stn_code</th>\n",
              "      <th>state</th>\n",
              "      <th>location</th>\n",
              "      <th>agency</th>\n",
              "      <th>type</th>\n",
              "      <th>so2</th>\n",
              "      <th>no2</th>\n",
              "      <th>rspm</th>\n",
              "      <th>spm</th>\n",
              "      <th>location_monitoring_station</th>\n",
              "      <th>date</th>\n",
              "    </tr>\n",
              "  </thead>\n",
              "  <tbody>\n",
              "    <tr>\n",
              "      <th>136862</th>\n",
              "      <td>NaN</td>\n",
              "      <td>Karnataka</td>\n",
              "      <td>Bangalore</td>\n",
              "      <td>NaN</td>\n",
              "      <td>Industrial Areas</td>\n",
              "      <td>6.3</td>\n",
              "      <td>44.0</td>\n",
              "      <td>116.0</td>\n",
              "      <td>193.0</td>\n",
              "      <td>AMCO Batteries</td>\n",
              "      <td>2005-05-01</td>\n",
              "    </tr>\n",
              "    <tr>\n",
              "      <th>136863</th>\n",
              "      <td>NaN</td>\n",
              "      <td>Karnataka</td>\n",
              "      <td>Bangalore</td>\n",
              "      <td>NaN</td>\n",
              "      <td>Industrial Areas</td>\n",
              "      <td>6.8</td>\n",
              "      <td>41.9</td>\n",
              "      <td>58.0</td>\n",
              "      <td>120.0</td>\n",
              "      <td>AMCO Batteries</td>\n",
              "      <td>2005-07-01</td>\n",
              "    </tr>\n",
              "    <tr>\n",
              "      <th>136864</th>\n",
              "      <td>NaN</td>\n",
              "      <td>Karnataka</td>\n",
              "      <td>Bangalore</td>\n",
              "      <td>NaN</td>\n",
              "      <td>Industrial Areas</td>\n",
              "      <td>6.5</td>\n",
              "      <td>36.6</td>\n",
              "      <td>176.0</td>\n",
              "      <td>241.0</td>\n",
              "      <td>AMCO Batteries</td>\n",
              "      <td>2005-11-01</td>\n",
              "    </tr>\n",
              "    <tr>\n",
              "      <th>136865</th>\n",
              "      <td>NaN</td>\n",
              "      <td>Karnataka</td>\n",
              "      <td>Bangalore</td>\n",
              "      <td>NaN</td>\n",
              "      <td>Industrial Areas</td>\n",
              "      <td>8.1</td>\n",
              "      <td>51.2</td>\n",
              "      <td>115.0</td>\n",
              "      <td>169.0</td>\n",
              "      <td>AMCO Batteries</td>\n",
              "      <td>2005-01-15</td>\n",
              "    </tr>\n",
              "    <tr>\n",
              "      <th>136866</th>\n",
              "      <td>NaN</td>\n",
              "      <td>Karnataka</td>\n",
              "      <td>Bangalore</td>\n",
              "      <td>NaN</td>\n",
              "      <td>Industrial Areas</td>\n",
              "      <td>7.0</td>\n",
              "      <td>39.5</td>\n",
              "      <td>120.0</td>\n",
              "      <td>193.0</td>\n",
              "      <td>AMCO Batteries</td>\n",
              "      <td>2005-01-18</td>\n",
              "    </tr>\n",
              "    <tr>\n",
              "      <th>...</th>\n",
              "      <td>...</td>\n",
              "      <td>...</td>\n",
              "      <td>...</td>\n",
              "      <td>...</td>\n",
              "      <td>...</td>\n",
              "      <td>...</td>\n",
              "      <td>...</td>\n",
              "      <td>...</td>\n",
              "      <td>...</td>\n",
              "      <td>...</td>\n",
              "      <td>...</td>\n",
              "    </tr>\n",
              "    <tr>\n",
              "      <th>142238</th>\n",
              "      <td>NaN</td>\n",
              "      <td>Karnataka</td>\n",
              "      <td>Bangalore</td>\n",
              "      <td>NaN</td>\n",
              "      <td>Sensitive Areas</td>\n",
              "      <td>12.1</td>\n",
              "      <td>34.3</td>\n",
              "      <td>39.0</td>\n",
              "      <td>148.0</td>\n",
              "      <td>Victoria Hospital</td>\n",
              "      <td>2009-02-11</td>\n",
              "    </tr>\n",
              "    <tr>\n",
              "      <th>142239</th>\n",
              "      <td>NaN</td>\n",
              "      <td>Karnataka</td>\n",
              "      <td>Bangalore</td>\n",
              "      <td>NaN</td>\n",
              "      <td>Sensitive Areas</td>\n",
              "      <td>14.6</td>\n",
              "      <td>34.3</td>\n",
              "      <td>42.0</td>\n",
              "      <td>117.0</td>\n",
              "      <td>Victoria Hospital</td>\n",
              "      <td>2009-06-11</td>\n",
              "    </tr>\n",
              "    <tr>\n",
              "      <th>142240</th>\n",
              "      <td>NaN</td>\n",
              "      <td>Karnataka</td>\n",
              "      <td>Bangalore</td>\n",
              "      <td>NaN</td>\n",
              "      <td>Sensitive Areas</td>\n",
              "      <td>13.2</td>\n",
              "      <td>31.1</td>\n",
              "      <td>106.0</td>\n",
              "      <td>257.0</td>\n",
              "      <td>Victoria Hospital</td>\n",
              "      <td>2009-09-11</td>\n",
              "    </tr>\n",
              "    <tr>\n",
              "      <th>142241</th>\n",
              "      <td>NaN</td>\n",
              "      <td>Karnataka</td>\n",
              "      <td>Bangalore</td>\n",
              "      <td>NaN</td>\n",
              "      <td>Sensitive Areas</td>\n",
              "      <td>14.7</td>\n",
              "      <td>35.9</td>\n",
              "      <td>38.0</td>\n",
              "      <td>116.0</td>\n",
              "      <td>Victoria Hospital</td>\n",
              "      <td>2009-11-11</td>\n",
              "    </tr>\n",
              "    <tr>\n",
              "      <th>142242</th>\n",
              "      <td>NaN</td>\n",
              "      <td>Karnataka</td>\n",
              "      <td>Bangalore</td>\n",
              "      <td>NaN</td>\n",
              "      <td>Sensitive Areas</td>\n",
              "      <td>11.7</td>\n",
              "      <td>31.0</td>\n",
              "      <td>66.0</td>\n",
              "      <td>197.0</td>\n",
              "      <td>Victoria Hospital</td>\n",
              "      <td>2009-11-16</td>\n",
              "    </tr>\n",
              "  </tbody>\n",
              "</table>\n",
              "<p>2597 rows × 11 columns</p>\n",
              "</div>"
            ],
            "text/plain": [
              "       stn_code      state  ... location_monitoring_station        date\n",
              "136862      NaN  Karnataka  ...              AMCO Batteries  2005-05-01\n",
              "136863      NaN  Karnataka  ...              AMCO Batteries  2005-07-01\n",
              "136864      NaN  Karnataka  ...              AMCO Batteries  2005-11-01\n",
              "136865      NaN  Karnataka  ...              AMCO Batteries  2005-01-15\n",
              "136866      NaN  Karnataka  ...              AMCO Batteries  2005-01-18\n",
              "...         ...        ...  ...                         ...         ...\n",
              "142238      NaN  Karnataka  ...           Victoria Hospital  2009-02-11\n",
              "142239      NaN  Karnataka  ...           Victoria Hospital  2009-06-11\n",
              "142240      NaN  Karnataka  ...           Victoria Hospital  2009-09-11\n",
              "142241      NaN  Karnataka  ...           Victoria Hospital  2009-11-11\n",
              "142242      NaN  Karnataka  ...           Victoria Hospital  2009-11-16\n",
              "\n",
              "[2597 rows x 11 columns]"
            ]
          },
          "execution_count": 19,
          "metadata": {
            "tags": []
          },
          "output_type": "execute_result"
        }
      ],
      "source": [
        "df_blr_2010 = df_blr.loc[df_blr['date'] < '2010-01-01']\n",
        "df_blr_2010 = df_blr_2010[df_blr_2010['date'] >= '2005-01-01']\n",
        "df_blr_2010"
      ]
    },
    {
      "cell_type": "code",
      "execution_count": null,
      "metadata": {
        "colab": {
          "base_uri": "https://localhost:8080/"
        },
        "id": "4NYrhB33zatp",
        "outputId": "c5f89a7e-f437-4b88-d6ae-0b1d8c256bca"
      },
      "outputs": [
        {
          "data": {
            "text/plain": [
              "stn_code                       2597\n",
              "state                             0\n",
              "location                          0\n",
              "agency                         2597\n",
              "type                              0\n",
              "so2                             159\n",
              "no2                               6\n",
              "rspm                              2\n",
              "spm                               5\n",
              "location_monitoring_station       0\n",
              "date                              0\n",
              "dtype: int64"
            ]
          },
          "execution_count": 20,
          "metadata": {
            "tags": []
          },
          "output_type": "execute_result"
        }
      ],
      "source": [
        "\n",
        "df_blr_2010.isna().sum()"
      ]
    },
    {
      "cell_type": "code",
      "execution_count": null,
      "metadata": {
        "colab": {
          "base_uri": "https://localhost:8080/",
          "height": 589
        },
        "id": "Snfn3-f3yUPq",
        "outputId": "5487cb0e-b800-4b33-c779-3713a022302d"
      },
      "outputs": [
        {
          "data": {
            "text/html": [
              "<div>\n",
              "<style scoped>\n",
              "    .dataframe tbody tr th:only-of-type {\n",
              "        vertical-align: middle;\n",
              "    }\n",
              "\n",
              "    .dataframe tbody tr th {\n",
              "        vertical-align: top;\n",
              "    }\n",
              "\n",
              "    .dataframe thead th {\n",
              "        text-align: right;\n",
              "    }\n",
              "</style>\n",
              "<table border=\"1\" class=\"dataframe\">\n",
              "  <thead>\n",
              "    <tr style=\"text-align: right;\">\n",
              "      <th></th>\n",
              "      <th>stn_code</th>\n",
              "      <th>state</th>\n",
              "      <th>location</th>\n",
              "      <th>agency</th>\n",
              "      <th>type</th>\n",
              "      <th>so2</th>\n",
              "      <th>no2</th>\n",
              "      <th>rspm</th>\n",
              "      <th>spm</th>\n",
              "      <th>location_monitoring_station</th>\n",
              "      <th>date</th>\n",
              "    </tr>\n",
              "  </thead>\n",
              "  <tbody>\n",
              "    <tr>\n",
              "      <th>143006</th>\n",
              "      <td>77</td>\n",
              "      <td>Karnataka</td>\n",
              "      <td>Bangalore</td>\n",
              "      <td>Karnataka State Pollution Control Board</td>\n",
              "      <td>Industrial Area</td>\n",
              "      <td>14.866667</td>\n",
              "      <td>28.30</td>\n",
              "      <td>257.0</td>\n",
              "      <td>NaN</td>\n",
              "      <td>Graphite India, White Field Road, Bangalore</td>\n",
              "      <td>2011-11-01</td>\n",
              "    </tr>\n",
              "    <tr>\n",
              "      <th>143007</th>\n",
              "      <td>77</td>\n",
              "      <td>Karnataka</td>\n",
              "      <td>Bangalore</td>\n",
              "      <td>Karnataka State Pollution Control Board</td>\n",
              "      <td>Industrial Area</td>\n",
              "      <td>17.425000</td>\n",
              "      <td>31.65</td>\n",
              "      <td>551.0</td>\n",
              "      <td>NaN</td>\n",
              "      <td>Graphite India, White Field Road, Bangalore</td>\n",
              "      <td>2011-01-13</td>\n",
              "    </tr>\n",
              "    <tr>\n",
              "      <th>143008</th>\n",
              "      <td>77</td>\n",
              "      <td>Karnataka</td>\n",
              "      <td>Bangalore</td>\n",
              "      <td>Karnataka State Pollution Control Board</td>\n",
              "      <td>Industrial Area</td>\n",
              "      <td>20.000000</td>\n",
              "      <td>32.00</td>\n",
              "      <td>356.0</td>\n",
              "      <td>NaN</td>\n",
              "      <td>Graphite India, White Field Road, Bangalore</td>\n",
              "      <td>2011-01-18</td>\n",
              "    </tr>\n",
              "    <tr>\n",
              "      <th>143009</th>\n",
              "      <td>77</td>\n",
              "      <td>Karnataka</td>\n",
              "      <td>Bangalore</td>\n",
              "      <td>Karnataka State Pollution Control Board</td>\n",
              "      <td>Industrial Area</td>\n",
              "      <td>16.000000</td>\n",
              "      <td>30.00</td>\n",
              "      <td>159.0</td>\n",
              "      <td>NaN</td>\n",
              "      <td>Graphite India, White Field Road, Bangalore</td>\n",
              "      <td>2011-01-24</td>\n",
              "    </tr>\n",
              "    <tr>\n",
              "      <th>143010</th>\n",
              "      <td>77</td>\n",
              "      <td>Karnataka</td>\n",
              "      <td>Bangalore</td>\n",
              "      <td>Karnataka State Pollution Control Board</td>\n",
              "      <td>Industrial Area</td>\n",
              "      <td>16.000000</td>\n",
              "      <td>31.00</td>\n",
              "      <td>52.0</td>\n",
              "      <td>NaN</td>\n",
              "      <td>Graphite India, White Field Road, Bangalore</td>\n",
              "      <td>2011-01-31</td>\n",
              "    </tr>\n",
              "    <tr>\n",
              "      <th>...</th>\n",
              "      <td>...</td>\n",
              "      <td>...</td>\n",
              "      <td>...</td>\n",
              "      <td>...</td>\n",
              "      <td>...</td>\n",
              "      <td>...</td>\n",
              "      <td>...</td>\n",
              "      <td>...</td>\n",
              "      <td>...</td>\n",
              "      <td>...</td>\n",
              "      <td>...</td>\n",
              "    </tr>\n",
              "    <tr>\n",
              "      <th>151687</th>\n",
              "      <td>598</td>\n",
              "      <td>Karnataka</td>\n",
              "      <td>Bangalore</td>\n",
              "      <td>Karnataka State Pollution Control Board</td>\n",
              "      <td>Sensitive Area</td>\n",
              "      <td>14.000000</td>\n",
              "      <td>14.00</td>\n",
              "      <td>53.0</td>\n",
              "      <td>NaN</td>\n",
              "      <td>Department of Environmental Science, Jnanabhar...</td>\n",
              "      <td>2015-03-17</td>\n",
              "    </tr>\n",
              "    <tr>\n",
              "      <th>151688</th>\n",
              "      <td>598</td>\n",
              "      <td>Karnataka</td>\n",
              "      <td>Bangalore</td>\n",
              "      <td>Karnataka State Pollution Control Board</td>\n",
              "      <td>Sensitive Area</td>\n",
              "      <td>17.000000</td>\n",
              "      <td>27.00</td>\n",
              "      <td>69.0</td>\n",
              "      <td>NaN</td>\n",
              "      <td>Department of Environmental Science, Jnanabhar...</td>\n",
              "      <td>2015-03-19</td>\n",
              "    </tr>\n",
              "    <tr>\n",
              "      <th>151689</th>\n",
              "      <td>598</td>\n",
              "      <td>Karnataka</td>\n",
              "      <td>Bangalore</td>\n",
              "      <td>Karnataka State Pollution Control Board</td>\n",
              "      <td>Sensitive Area</td>\n",
              "      <td>12.000000</td>\n",
              "      <td>16.00</td>\n",
              "      <td>53.0</td>\n",
              "      <td>NaN</td>\n",
              "      <td>Department of Environmental Science, Jnanabhar...</td>\n",
              "      <td>2015-03-25</td>\n",
              "    </tr>\n",
              "    <tr>\n",
              "      <th>151690</th>\n",
              "      <td>598</td>\n",
              "      <td>Karnataka</td>\n",
              "      <td>Bangalore</td>\n",
              "      <td>Karnataka State Pollution Control Board</td>\n",
              "      <td>Sensitive Area</td>\n",
              "      <td>11.000000</td>\n",
              "      <td>23.00</td>\n",
              "      <td>70.0</td>\n",
              "      <td>NaN</td>\n",
              "      <td>Department of Environmental Science, Jnanabhar...</td>\n",
              "      <td>2015-03-26</td>\n",
              "    </tr>\n",
              "    <tr>\n",
              "      <th>151691</th>\n",
              "      <td>598</td>\n",
              "      <td>Karnataka</td>\n",
              "      <td>Bangalore</td>\n",
              "      <td>Karnataka State Pollution Control Board</td>\n",
              "      <td>Sensitive Area</td>\n",
              "      <td>11.000000</td>\n",
              "      <td>17.00</td>\n",
              "      <td>60.0</td>\n",
              "      <td>NaN</td>\n",
              "      <td>Department of Environmental Science, Jnanabhar...</td>\n",
              "      <td>2015-03-30</td>\n",
              "    </tr>\n",
              "  </tbody>\n",
              "</table>\n",
              "<p>3282 rows × 11 columns</p>\n",
              "</div>"
            ],
            "text/plain": [
              "       stn_code  ...        date\n",
              "143006       77  ...  2011-11-01\n",
              "143007       77  ...  2011-01-13\n",
              "143008       77  ...  2011-01-18\n",
              "143009       77  ...  2011-01-24\n",
              "143010       77  ...  2011-01-31\n",
              "...         ...  ...         ...\n",
              "151687      598  ...  2015-03-17\n",
              "151688      598  ...  2015-03-19\n",
              "151689      598  ...  2015-03-25\n",
              "151690      598  ...  2015-03-26\n",
              "151691      598  ...  2015-03-30\n",
              "\n",
              "[3282 rows x 11 columns]"
            ]
          },
          "execution_count": 21,
          "metadata": {
            "tags": []
          },
          "output_type": "execute_result"
        }
      ],
      "source": [
        "df_blr_2015 = df_blr[df_blr['date'] >= '2010-01-01']\n",
        "df_blr_2015"
      ]
    },
    {
      "cell_type": "markdown",
      "metadata": {
        "id": "w2SZKpmFvi4V"
      },
      "source": [
        "### We will be considering only the data recorded between the years 2005 and 2015 as the data before that time is inadequate"
      ]
    },
    {
      "cell_type": "code",
      "execution_count": null,
      "metadata": {
        "colab": {
          "base_uri": "https://localhost:8080/"
        },
        "id": "cSNW273Oysvs",
        "outputId": "6b9e05f5-5ec0-4076-8ba1-12982b14570f"
      },
      "outputs": [
        {
          "data": {
            "text/plain": [
              "stn_code                          0\n",
              "state                             0\n",
              "location                          0\n",
              "agency                            0\n",
              "type                              0\n",
              "so2                               4\n",
              "no2                               4\n",
              "rspm                              1\n",
              "spm                            3282\n",
              "location_monitoring_station       0\n",
              "date                              0\n",
              "dtype: int64"
            ]
          },
          "execution_count": 22,
          "metadata": {
            "tags": []
          },
          "output_type": "execute_result"
        }
      ],
      "source": [
        "df_blr_2015.isna().sum()"
      ]
    },
    {
      "cell_type": "markdown",
      "metadata": {
        "id": "rggDyXog0CLu"
      },
      "source": [
        "\n",
        "\n",
        "\n",
        "### The column spm is not much of use as its data being filled in rspm and it has only NaN. \n",
        "\n",
        "### From simple considerations TSPM: Stands for Total Suspended Particulate Matter and would essentially be the concentration one would get when a high-volume bulk sampling is done on a filter substrate. RSPM is that fraction of TSPM which is readily inhaled by humans through their respiratory system and in general, considered as particulate matter with their diameter (aerodynamic) less than 2.5 micrometers. Larger particles would be filtered in the nasal duct.\n",
        "\n",
        "### Hence spm value is not required as it is irrelevent and rspm can be used instead."
      ]
    },
    {
      "cell_type": "code",
      "execution_count": null,
      "metadata": {
        "colab": {
          "base_uri": "https://localhost:8080/",
          "height": 589
        },
        "id": "lNZeF_sg0M-8",
        "outputId": "2d609c6d-112b-4d3a-8f4f-6f013be34a63"
      },
      "outputs": [
        {
          "data": {
            "text/html": [
              "<div>\n",
              "<style scoped>\n",
              "    .dataframe tbody tr th:only-of-type {\n",
              "        vertical-align: middle;\n",
              "    }\n",
              "\n",
              "    .dataframe tbody tr th {\n",
              "        vertical-align: top;\n",
              "    }\n",
              "\n",
              "    .dataframe thead th {\n",
              "        text-align: right;\n",
              "    }\n",
              "</style>\n",
              "<table border=\"1\" class=\"dataframe\">\n",
              "  <thead>\n",
              "    <tr style=\"text-align: right;\">\n",
              "      <th></th>\n",
              "      <th>stn_code</th>\n",
              "      <th>state</th>\n",
              "      <th>location</th>\n",
              "      <th>agency</th>\n",
              "      <th>type</th>\n",
              "      <th>so2</th>\n",
              "      <th>no2</th>\n",
              "      <th>rspm</th>\n",
              "      <th>location_monitoring_station</th>\n",
              "      <th>date</th>\n",
              "    </tr>\n",
              "  </thead>\n",
              "  <tbody>\n",
              "    <tr>\n",
              "      <th>143006</th>\n",
              "      <td>77</td>\n",
              "      <td>Karnataka</td>\n",
              "      <td>Bangalore</td>\n",
              "      <td>Karnataka State Pollution Control Board</td>\n",
              "      <td>Industrial Area</td>\n",
              "      <td>14.866667</td>\n",
              "      <td>28.30</td>\n",
              "      <td>257.0</td>\n",
              "      <td>Graphite India, White Field Road, Bangalore</td>\n",
              "      <td>2011-11-01</td>\n",
              "    </tr>\n",
              "    <tr>\n",
              "      <th>143007</th>\n",
              "      <td>77</td>\n",
              "      <td>Karnataka</td>\n",
              "      <td>Bangalore</td>\n",
              "      <td>Karnataka State Pollution Control Board</td>\n",
              "      <td>Industrial Area</td>\n",
              "      <td>17.425000</td>\n",
              "      <td>31.65</td>\n",
              "      <td>551.0</td>\n",
              "      <td>Graphite India, White Field Road, Bangalore</td>\n",
              "      <td>2011-01-13</td>\n",
              "    </tr>\n",
              "    <tr>\n",
              "      <th>143008</th>\n",
              "      <td>77</td>\n",
              "      <td>Karnataka</td>\n",
              "      <td>Bangalore</td>\n",
              "      <td>Karnataka State Pollution Control Board</td>\n",
              "      <td>Industrial Area</td>\n",
              "      <td>20.000000</td>\n",
              "      <td>32.00</td>\n",
              "      <td>356.0</td>\n",
              "      <td>Graphite India, White Field Road, Bangalore</td>\n",
              "      <td>2011-01-18</td>\n",
              "    </tr>\n",
              "    <tr>\n",
              "      <th>143009</th>\n",
              "      <td>77</td>\n",
              "      <td>Karnataka</td>\n",
              "      <td>Bangalore</td>\n",
              "      <td>Karnataka State Pollution Control Board</td>\n",
              "      <td>Industrial Area</td>\n",
              "      <td>16.000000</td>\n",
              "      <td>30.00</td>\n",
              "      <td>159.0</td>\n",
              "      <td>Graphite India, White Field Road, Bangalore</td>\n",
              "      <td>2011-01-24</td>\n",
              "    </tr>\n",
              "    <tr>\n",
              "      <th>143010</th>\n",
              "      <td>77</td>\n",
              "      <td>Karnataka</td>\n",
              "      <td>Bangalore</td>\n",
              "      <td>Karnataka State Pollution Control Board</td>\n",
              "      <td>Industrial Area</td>\n",
              "      <td>16.000000</td>\n",
              "      <td>31.00</td>\n",
              "      <td>52.0</td>\n",
              "      <td>Graphite India, White Field Road, Bangalore</td>\n",
              "      <td>2011-01-31</td>\n",
              "    </tr>\n",
              "    <tr>\n",
              "      <th>...</th>\n",
              "      <td>...</td>\n",
              "      <td>...</td>\n",
              "      <td>...</td>\n",
              "      <td>...</td>\n",
              "      <td>...</td>\n",
              "      <td>...</td>\n",
              "      <td>...</td>\n",
              "      <td>...</td>\n",
              "      <td>...</td>\n",
              "      <td>...</td>\n",
              "    </tr>\n",
              "    <tr>\n",
              "      <th>151687</th>\n",
              "      <td>598</td>\n",
              "      <td>Karnataka</td>\n",
              "      <td>Bangalore</td>\n",
              "      <td>Karnataka State Pollution Control Board</td>\n",
              "      <td>Sensitive Area</td>\n",
              "      <td>14.000000</td>\n",
              "      <td>14.00</td>\n",
              "      <td>53.0</td>\n",
              "      <td>Department of Environmental Science, Jnanabhar...</td>\n",
              "      <td>2015-03-17</td>\n",
              "    </tr>\n",
              "    <tr>\n",
              "      <th>151688</th>\n",
              "      <td>598</td>\n",
              "      <td>Karnataka</td>\n",
              "      <td>Bangalore</td>\n",
              "      <td>Karnataka State Pollution Control Board</td>\n",
              "      <td>Sensitive Area</td>\n",
              "      <td>17.000000</td>\n",
              "      <td>27.00</td>\n",
              "      <td>69.0</td>\n",
              "      <td>Department of Environmental Science, Jnanabhar...</td>\n",
              "      <td>2015-03-19</td>\n",
              "    </tr>\n",
              "    <tr>\n",
              "      <th>151689</th>\n",
              "      <td>598</td>\n",
              "      <td>Karnataka</td>\n",
              "      <td>Bangalore</td>\n",
              "      <td>Karnataka State Pollution Control Board</td>\n",
              "      <td>Sensitive Area</td>\n",
              "      <td>12.000000</td>\n",
              "      <td>16.00</td>\n",
              "      <td>53.0</td>\n",
              "      <td>Department of Environmental Science, Jnanabhar...</td>\n",
              "      <td>2015-03-25</td>\n",
              "    </tr>\n",
              "    <tr>\n",
              "      <th>151690</th>\n",
              "      <td>598</td>\n",
              "      <td>Karnataka</td>\n",
              "      <td>Bangalore</td>\n",
              "      <td>Karnataka State Pollution Control Board</td>\n",
              "      <td>Sensitive Area</td>\n",
              "      <td>11.000000</td>\n",
              "      <td>23.00</td>\n",
              "      <td>70.0</td>\n",
              "      <td>Department of Environmental Science, Jnanabhar...</td>\n",
              "      <td>2015-03-26</td>\n",
              "    </tr>\n",
              "    <tr>\n",
              "      <th>151691</th>\n",
              "      <td>598</td>\n",
              "      <td>Karnataka</td>\n",
              "      <td>Bangalore</td>\n",
              "      <td>Karnataka State Pollution Control Board</td>\n",
              "      <td>Sensitive Area</td>\n",
              "      <td>11.000000</td>\n",
              "      <td>17.00</td>\n",
              "      <td>60.0</td>\n",
              "      <td>Department of Environmental Science, Jnanabhar...</td>\n",
              "      <td>2015-03-30</td>\n",
              "    </tr>\n",
              "  </tbody>\n",
              "</table>\n",
              "<p>3282 rows × 10 columns</p>\n",
              "</div>"
            ],
            "text/plain": [
              "       stn_code  ...        date\n",
              "143006       77  ...  2011-11-01\n",
              "143007       77  ...  2011-01-13\n",
              "143008       77  ...  2011-01-18\n",
              "143009       77  ...  2011-01-24\n",
              "143010       77  ...  2011-01-31\n",
              "...         ...  ...         ...\n",
              "151687      598  ...  2015-03-17\n",
              "151688      598  ...  2015-03-19\n",
              "151689      598  ...  2015-03-25\n",
              "151690      598  ...  2015-03-26\n",
              "151691      598  ...  2015-03-30\n",
              "\n",
              "[3282 rows x 10 columns]"
            ]
          },
          "execution_count": 23,
          "metadata": {
            "tags": []
          },
          "output_type": "execute_result"
        }
      ],
      "source": [
        "df_blr_2015 = df_blr_2015.drop(columns='spm')\n",
        "df_blr_2015"
      ]
    },
    {
      "cell_type": "code",
      "execution_count": null,
      "metadata": {
        "colab": {
          "base_uri": "https://localhost:8080/"
        },
        "id": "WJCukjxe0WQM",
        "outputId": "e576c8b4-5931-4c83-c416-ff9e18410ccc"
      },
      "outputs": [
        {
          "data": {
            "text/plain": [
              "array(['AMCO Batteries', 'Graphite India', 'KHB Indl Area',\n",
              "       'Peenya Indl. Area', 'Victoria Hospital', 'Yeshwanthpura',\n",
              "       'Anand Rao Circle'], dtype=object)"
            ]
          },
          "execution_count": 24,
          "metadata": {
            "tags": []
          },
          "output_type": "execute_result"
        }
      ],
      "source": [
        "df_blr_2010.location_monitoring_station.unique()"
      ]
    },
    {
      "cell_type": "code",
      "execution_count": null,
      "metadata": {
        "colab": {
          "base_uri": "https://localhost:8080/"
        },
        "id": "gJdDwoab0thg",
        "outputId": "d7b64534-8563-402e-a1c4-86a80847275c"
      },
      "outputs": [
        {
          "data": {
            "text/plain": [
              "array(['Graphite India, White Field Road, Bangalore',\n",
              "       'AMCO Batteries, Mysore Road, Bangalore',\n",
              "       'KHB Industrial Area, Near R.R. Founders, Yelahanka, Bangalore',\n",
              "       'Peenya Industrial Area, Bangalore',\n",
              "       'Victoria Hospital, Bangalore', 'Yeshwanthpura, Bangalore',\n",
              "       'Department of Environmental Science, Jnanabharathi Campus, Bangalore University'],\n",
              "      dtype=object)"
            ]
          },
          "execution_count": 25,
          "metadata": {
            "tags": []
          },
          "output_type": "execute_result"
        }
      ],
      "source": [
        "df_blr_2015.location_monitoring_station.unique()"
      ]
    },
    {
      "cell_type": "code",
      "execution_count": null,
      "metadata": {
        "colab": {
          "base_uri": "https://localhost:8080/"
        },
        "id": "7BekIzPI3oQ2",
        "outputId": "61c42d66-99c1-4f63-f9d5-c20cc595956a"
      },
      "outputs": [
        {
          "name": "stdout",
          "output_type": "stream",
          "text": [
            "<class 'pandas.core.frame.DataFrame'>\n",
            "Int64Index: 3282 entries, 143006 to 151691\n",
            "Data columns (total 10 columns):\n",
            " #   Column                       Non-Null Count  Dtype  \n",
            "---  ------                       --------------  -----  \n",
            " 0   stn_code                     3282 non-null   object \n",
            " 1   state                        3282 non-null   object \n",
            " 2   location                     3282 non-null   object \n",
            " 3   agency                       3282 non-null   object \n",
            " 4   type                         3282 non-null   object \n",
            " 5   so2                          3282 non-null   float64\n",
            " 6   no2                          3282 non-null   float64\n",
            " 7   rspm                         3282 non-null   float64\n",
            " 8   location_monitoring_station  3282 non-null   object \n",
            " 9   date                         3282 non-null   object \n",
            "dtypes: float64(3), object(7)\n",
            "memory usage: 282.0+ KB\n"
          ]
        }
      ],
      "source": [
        "from sklearn.impute import SimpleImputer\n",
        "imputer = SimpleImputer(missing_values=np.nan, strategy='mean')\n",
        "imputer = imputer.fit(df_blr_2015.iloc[:, 5:8].values)\n",
        "df_blr_2015.iloc[:,5:8] = imputer.transform(df_blr_2015.iloc[:, 5:8].values)\n",
        "df_blr_2015.info()\n"
      ]
    },
    {
      "cell_type": "markdown",
      "metadata": {
        "id": "HpBcL_EW3o3U"
      },
      "source": [
        "Filling NaN values with the mean of the column\n"
      ]
    },
    {
      "cell_type": "code",
      "execution_count": null,
      "metadata": {
        "colab": {
          "base_uri": "https://localhost:8080/"
        },
        "id": "m9uUYBy5429q",
        "outputId": "d752f62a-9e75-46a6-dc54-3d5410ee7b6e"
      },
      "outputs": [
        {
          "name": "stdout",
          "output_type": "stream",
          "text": [
            "<class 'pandas.core.frame.DataFrame'>\n",
            "Int64Index: 2597 entries, 136862 to 142242\n",
            "Data columns (total 11 columns):\n",
            " #   Column                       Non-Null Count  Dtype  \n",
            "---  ------                       --------------  -----  \n",
            " 0   stn_code                     0 non-null      object \n",
            " 1   state                        2597 non-null   object \n",
            " 2   location                     2597 non-null   object \n",
            " 3   agency                       0 non-null      object \n",
            " 4   type                         2597 non-null   object \n",
            " 5   so2                          2597 non-null   float64\n",
            " 6   no2                          2597 non-null   float64\n",
            " 7   rspm                         2597 non-null   float64\n",
            " 8   spm                          2592 non-null   float64\n",
            " 9   location_monitoring_station  2597 non-null   object \n",
            " 10  date                         2597 non-null   object \n",
            "dtypes: float64(4), object(7)\n",
            "memory usage: 243.5+ KB\n"
          ]
        }
      ],
      "source": [
        "imputer = SimpleImputer(missing_values=np.nan, strategy='mean')\n",
        "imputer = imputer.fit(df_blr_2010.iloc[:, 5:8].values)\n",
        "df_blr_2010.iloc[:,5:8] = imputer.transform(df_blr_2010.iloc[:, 5:8].values)\n",
        "df_blr_2010.info()"
      ]
    },
    {
      "cell_type": "code",
      "execution_count": null,
      "metadata": {
        "id": "5x0pGjho4_-p"
      },
      "outputs": [],
      "source": [
        "df_blr_2010['agency']=df_blr_2010['agency'].fillna('Karnataka State Pollution Control Board')"
      ]
    },
    {
      "cell_type": "markdown",
      "metadata": {
        "id": "AM_VAGCay4Aw"
      },
      "source": [
        "### Since the agency column in 2010 is empty we are filling it with the same value as in 2015"
      ]
    },
    {
      "cell_type": "code",
      "execution_count": null,
      "metadata": {
        "colab": {
          "base_uri": "https://localhost:8080/"
        },
        "id": "sClVjxyu58IB",
        "outputId": "26eaeef0-0013-4a24-a523-425eaa9a2e73"
      },
      "outputs": [
        {
          "data": {
            "text/plain": [
              "Index(['stn_code', 'state', 'location', 'agency', 'type', 'so2', 'no2', 'rspm',\n",
              "       'location_monitoring_station', 'date'],\n",
              "      dtype='object')"
            ]
          },
          "execution_count": 29,
          "metadata": {
            "tags": []
          },
          "output_type": "execute_result"
        }
      ],
      "source": [
        "df_blr_2015.columns"
      ]
    },
    {
      "cell_type": "code",
      "execution_count": null,
      "metadata": {
        "colab": {
          "base_uri": "https://localhost:8080/"
        },
        "id": "hyvNhjrY66YS",
        "outputId": "a698ec17-e818-4e78-fe46-b14239e91bea"
      },
      "outputs": [
        {
          "data": {
            "text/plain": [
              "array(['AMCO Batteries', 'Graphite India', 'KHB Indl Area',\n",
              "       'Peenya Indl. Area', 'Victoria Hospital', 'Yeshwanthpura',\n",
              "       'Anand Rao Circle'], dtype=object)"
            ]
          },
          "execution_count": 30,
          "metadata": {
            "tags": []
          },
          "output_type": "execute_result"
        }
      ],
      "source": [
        "\n",
        "\n",
        "\n",
        "stn_add_2010 = df_blr_2010.location_monitoring_station.unique()\n",
        "stn_add_2010"
      ]
    },
    {
      "cell_type": "code",
      "execution_count": null,
      "metadata": {
        "id": "KkCx9hxi8bPr"
      },
      "outputs": [],
      "source": [
        "stn_add = df_blr_2015.location_monitoring_station.unique()"
      ]
    },
    {
      "cell_type": "code",
      "execution_count": null,
      "metadata": {
        "id": "4fiQ8SGI8gvW"
      },
      "outputs": [],
      "source": [
        "\n",
        "stn_id = df_blr_2015.stn_code.unique()\n",
        "stn_id = [int(i) for i in stn_id]"
      ]
    },
    {
      "cell_type": "code",
      "execution_count": null,
      "metadata": {
        "colab": {
          "base_uri": "https://localhost:8080/"
        },
        "id": "cDtmiPuo8tVD",
        "outputId": "f40ca5f9-541e-40e2-b090-6c95d03b9097"
      },
      "outputs": [
        {
          "data": {
            "text/plain": [
              "{77: 'Graphite India, White Field Road, Bangalore',\n",
              " 78: 'AMCO Batteries, Mysore Road, Bangalore',\n",
              " 404: 'KHB Industrial Area, Near R.R. Founders, Yelahanka, Bangalore',\n",
              " 405: 'Peenya Industrial Area, Bangalore',\n",
              " 406: 'Victoria Hospital, Bangalore',\n",
              " 457: 'Yeshwanthpura, Bangalore',\n",
              " 598: 'Department of Environmental Science, Jnanabharathi Campus, Bangalore University'}"
            ]
          },
          "execution_count": 33,
          "metadata": {
            "tags": []
          },
          "output_type": "execute_result"
        }
      ],
      "source": [
        "\n",
        "dict_stn = dict(zip(stn_id, stn_add))\n",
        "dict_stn"
      ]
    },
    {
      "cell_type": "code",
      "execution_count": null,
      "metadata": {
        "colab": {
          "base_uri": "https://localhost:8080/"
        },
        "id": "YP4SG9GX9a5v",
        "outputId": "6931ccd9-e015-42b7-b638-db049474061b"
      },
      "outputs": [
        {
          "data": {
            "text/plain": [
              "{77: ['Graphite India, White Field Road, Bangalore', 'Graphite India'],\n",
              " 78: ['AMCO Batteries, Mysore Road, Bangalore', 'AMCO Batteries'],\n",
              " 404: ['KHB Industrial Area, Near R.R. Founders, Yelahanka, Bangalore',\n",
              "  'KHB Indl Area'],\n",
              " 405: ['Peenya Industrial Area, Bangalore', 'Peenya Indl. Area'],\n",
              " 406: ['Victoria Hospital, Bangalore', 'Victoria Hospital'],\n",
              " 457: ['Yeshwanthpura, Bangalore', 'Yeshwanthpura'],\n",
              " 598: ['Department of Environmental Science, Jnanabharathi Campus, Bangalore University',\n",
              "  'Anand Rao Circle']}"
            ]
          },
          "execution_count": 34,
          "metadata": {
            "tags": []
          },
          "output_type": "execute_result"
        }
      ],
      "source": [
        "dict_stn[77] = [dict_stn[77], stn_add_2010[1]]\n",
        "dict_stn[78] = [dict_stn[78], stn_add_2010[0]]\n",
        "dict_stn[404] = [dict_stn[404], stn_add_2010[2]]\n",
        "dict_stn[405] = [dict_stn[405], stn_add_2010[3]]\n",
        "dict_stn[406] = [dict_stn[406], stn_add_2010[4]]\n",
        "dict_stn[457] = [dict_stn[457], stn_add_2010[5]]\n",
        "dict_stn[598] = [dict_stn[598], stn_add_2010[6]]\n",
        "\n",
        "dict_stn"
      ]
    },
    {
      "cell_type": "markdown",
      "metadata": {
        "id": "3bdseD6dj3Gx"
      },
      "source": [
        "# Visualisation"
      ]
    },
    {
      "cell_type": "code",
      "execution_count": null,
      "metadata": {
        "id": "BmOzgb32j5gq"
      },
      "outputs": [],
      "source": [
        "import matplotlib.pyplot as plt\n",
        "import matplotlib\n",
        "\n",
        "import seaborn as sns\n",
        "%matplotlib inline\n",
        "\n",
        "sns.set_style('darkgrid')\n",
        "matplotlib.rcParams['font.size'] = 14\n",
        "matplotlib.rcParams['figure.figsize'] = (15, 8)\n",
        "matplotlib.rcParams['figure.facecolor'] = '#00000000'"
      ]
    },
    {
      "cell_type": "code",
      "execution_count": null,
      "metadata": {
        "colab": {
          "base_uri": "https://localhost:8080/"
        },
        "id": "VmORbOCkkxBV",
        "outputId": "129b64bd-540f-4b0e-cc29-8e715b5f16b5"
      },
      "outputs": [
        {
          "data": {
            "text/plain": [
              "Industrial Areas          1325\n",
              "Residential and others     776\n",
              "Sensitive Areas            496\n",
              "Name: type, dtype: int64"
            ]
          },
          "execution_count": 36,
          "metadata": {
            "tags": []
          },
          "output_type": "execute_result"
        }
      ],
      "source": [
        "df_blr_2010[\"type\"].value_counts()"
      ]
    },
    {
      "cell_type": "code",
      "execution_count": null,
      "metadata": {
        "colab": {
          "base_uri": "https://localhost:8080/",
          "height": 618
        },
        "id": "sbygVZWTml1W",
        "outputId": "b5da2d17-5b61-4c36-e64c-d93682dcd6fb"
      },
      "outputs": [
        {
          "data": {
            "text/plain": [
              "([<matplotlib.patches.Wedge at 0x7f03190b79b0>,\n",
              "  <matplotlib.patches.Wedge at 0x7f03190ce208>,\n",
              "  <matplotlib.patches.Wedge at 0x7f03190ce978>],\n",
              " [Text(-0.03525671852285831, 1.099434838359691, 'Industrial Areas'),\n",
              "  Text(-0.5916997069662222, -0.9273033251186404, 'Residential and others'),\n",
              "  Text(0.9078619630539945, -0.6211172643227266, 'Sensitive Areas')],\n",
              " [Text(-0.01923093737610453, 0.5996917300143769, '51.0%'),\n",
              "  Text(-0.32274529470884844, -0.5058018137010766, '29.9%'),\n",
              "  Text(0.49519743439308783, -0.33879123508512354, '19.1%')])"
            ]
          },
          "execution_count": 37,
          "metadata": {
            "tags": []
          },
          "output_type": "execute_result"
        },
        {
          "data": {
            "image/png": "[encoded data removed]",
            "text/plain": [
              "<Figure size 1080x576 with 1 Axes>"
            ]
          },
          "metadata": {
            "tags": []
          },
          "output_type": "display_data"
        }
      ],
      "source": [
        "plt.pie(x = df_blr_2010[\"type\"].value_counts(), data = df_blr_2010,radius=1,labels=sorted(df_blr_2010[\"type\"].unique()), autopct='%1.1f%%')"
      ]
    },
    {
      "cell_type": "code",
      "execution_count": null,
      "metadata": {
        "colab": {
          "base_uri": "https://localhost:8080/",
          "height": 618
        },
        "id": "1Z-37sc2mp6T",
        "outputId": "68b10db1-891e-46a0-dd48-9d32fcd2fafe"
      },
      "outputs": [
        {
          "data": {
            "text/plain": [
              "([<matplotlib.patches.Wedge at 0x7f0318be84a8>,\n",
              "  <matplotlib.patches.Wedge at 0x7f0318be8c50>,\n",
              "  <matplotlib.patches.Wedge at 0x7f0318bf4400>],\n",
              " [Text(0.2566363370519645, 1.0696437680389441, 'Industrial Area'),\n",
              "  Text(-0.9650107851284293, -0.5279717649513208, 'Residential, Rural and other Areas'),\n",
              "  Text(0.73854405203147, -0.8152010078556929, 'Sensitive Area')],\n",
              " [Text(0.1399834565737988, 0.5834420552939695, '42.5%'),\n",
              "  Text(-0.5263695191609614, -0.28798459906435675, '30.9%'),\n",
              "  Text(0.40284221019898364, -0.4446550951940143, '26.6%')])"
            ]
          },
          "execution_count": 38,
          "metadata": {
            "tags": []
          },
          "output_type": "execute_result"
        },
        {
          "data": {
            "image/png": "[encoded data removed]",
            "text/plain": [
              "<Figure size 1080x576 with 1 Axes>"
            ]
          },
          "metadata": {
            "tags": []
          },
          "output_type": "display_data"
        }
      ],
      "source": [
        "plt.pie(x = df_blr_2015[\"type\"].value_counts(), data = df_blr_2015,radius=1,labels=sorted(df_blr_2015[\"type\"].unique()), autopct='%1.1f%%')"
      ]
    },
    {
      "cell_type": "code",
      "execution_count": null,
      "metadata": {
        "id": "tbAjUXSaq30X"
      },
      "outputs": [],
      "source": [
        "grp1 = df_blr_2010.groupby([\"type\"]).mean()[\"so2\"].to_frame()\n",
        "grp2 = df_blr_2015.groupby([\"type\"]).mean()[\"so2\"].to_frame()\n",
        "grp3 = df_blr_2010.groupby([\"type\"]).mean()[\"no2\"].to_frame()\n",
        "grp4 = df_blr_2015.groupby([\"type\"]).mean()[\"no2\"].to_frame()\n",
        "grp5 = df_blr_2010.groupby([\"type\"]).mean()[\"rspm\"].to_frame()\n",
        "grp6 = df_blr_2015.groupby([\"type\"]).mean()[\"rspm\"].to_frame()"
      ]
    },
    {
      "cell_type": "code",
      "execution_count": null,
      "metadata": {
        "colab": {
          "base_uri": "https://localhost:8080/",
          "height": 1000
        },
        "id": "ji8cIl1ztz91",
        "outputId": "df4aa3c1-ebc6-4b86-e4e9-e2cf06986924"
      },
      "outputs": [
        {
          "data": {
            "image/png": "[encoded data removed]",
            "text/plain": [
              "<Figure size 1080x576 with 1 Axes>"
            ]
          },
          "metadata": {
            "needs_background": "light",
            "tags": []
          },
          "output_type": "display_data"
        },
        {
          "data": {
            "image/png": "[encoded data removed]",
            "text/plain": [
              "<Figure size 1080x576 with 1 Axes>"
            ]
          },
          "metadata": {
            "needs_background": "light",
            "tags": []
          },
          "output_type": "display_data"
        },
        {
          "data": {
            "image/png": "[encoded data removed]",
            "text/plain": [
              "<Figure size 1080x576 with 1 Axes>"
            ]
          },
          "metadata": {
            "needs_background": "light",
            "tags": []
          },
          "output_type": "display_data"
        },
        {
          "data": {
            "image/png": "[encoded data removed]",
            "text/plain": [
              "<Figure size 1080x576 with 1 Axes>"
            ]
          },
          "metadata": {
            "needs_background": "light",
            "tags": []
          },
          "output_type": "display_data"
        },
        {
          "data": {
            "image/png": "[encoded data removed]",
            "text/plain": [
              "<Figure size 1080x576 with 1 Axes>"
            ]
          },
          "metadata": {
            "needs_background": "light",
            "tags": []
          },
          "output_type": "display_data"
        },
        {
          "data": {
            "image/png": "[encoded data removed]",
            "text/plain": [
              "<Figure size 1080x576 with 1 Axes>"
            ]
          },
          "metadata": {
            "needs_background": "light",
            "tags": []
          },
          "output_type": "display_data"
        }
      ],
      "source": [
        "grp1.plot(kind='bar',color='orange')\n",
        "grp2.plot(kind='bar',color='orange')\n",
        "grp3.plot(kind='bar',color='green')\n",
        "grp4.plot(kind='bar',color='green')\n",
        "grp5.plot(kind='bar',color='red')\n",
        "grp6.plot(kind='bar',color='red')\n",
        "plt.show()"
      ]
    },
    {
      "cell_type": "code",
      "execution_count": null,
      "metadata": {
        "id": "xJv-HyQTvpm4"
      },
      "outputs": [],
      "source": [
        "df_blr_2011 = df_blr[df_blr['date'] >= '2011-01-01']\n",
        "df_blr_2011 = df_blr_2011[df_blr_2011['date'] < '2012-01-01']\n",
        "df_blr_2012 = df_blr[df_blr['date'] >= '2012-01-01']\n",
        "df_blr_2012 = df_blr_2012[df_blr_2012['date'] < '2013-01-01']\n",
        "df_blr_2013 = df_blr[df_blr['date'] >= '2013-01-01']\n",
        "df_blr_2013 = df_blr_2013[df_blr_2013['date'] < '2014-01-01']\n",
        "df_blr_2014 = df_blr[df_blr['date'] >= '2014-01-01']\n",
        "df_blr_2014 = df_blr_2014[df_blr_2014['date'] < '2015-01-01']\n",
        "df_blr_215  = df_blr[df_blr['date'] >= '2015-01-01']\n",
        "df_blr_2011 = df_blr_215[df_blr_215['date'] < '2016-01-01']\n"
      ]
    },
    {
      "cell_type": "code",
      "execution_count": null,
      "metadata": {
        "colab": {
          "base_uri": "https://localhost:8080/",
          "height": 504
        },
        "id": "eDYOl9S20RRr",
        "outputId": "9f843494-1c35-42c0-9579-284f8e908b5b"
      },
      "outputs": [
        {
          "data": {
            "text/plain": [
              "[<matplotlib.lines.Line2D at 0x7f03188b99b0>]"
            ]
          },
          "execution_count": 42,
          "metadata": {
            "tags": []
          },
          "output_type": "execute_result"
        },
        {
          "data": {
            "image/png": "[encoded data removed]",
            "text/plain": [
              "<Figure size 1080x576 with 1 Axes>"
            ]
          },
          "metadata": {
            "needs_background": "light",
            "tags": []
          },
          "output_type": "display_data"
        }
      ],
      "source": [
        "datano2=[df_blr_2011.mean()[\"no2\"],df_blr_2012.mean()[\"no2\"],df_blr_2013.mean()[\"no2\"],df_blr_2014.mean()[\"no2\"],df_blr_2015.mean()[\"no2\"]]\n",
        "dataso2=[df_blr_2011.mean()[\"so2\"],df_blr_2012.mean()[\"so2\"],df_blr_2013.mean()[\"so2\"],df_blr_2014.mean()[\"so2\"],df_blr_2015.mean()[\"so2\"]]\n",
        "datarspm=[df_blr_2011.mean()[\"rspm\"],df_blr_2012.mean()[\"rspm\"],df_blr_2013.mean()[\"rspm\"],df_blr_2014.mean()[\"rspm\"],df_blr_2015.mean()[\"rspm\"]]\n",
        "years=[\"2011\",\"2012\",\"2013\",\"2014\",\"2015\"]\n",
        "d=list(zip(years,datano2))\n",
        "plt.plot(years,datano2,'o-r')\n",
        "plt.plot(years,dataso2,'s-b')\n",
        "plt.plot(years,datarspm,'o-g')\n"
      ]
    },
    {
      "cell_type": "code",
      "execution_count": null,
      "metadata": {
        "id": "5iXE1d_wHpoW"
      },
      "outputs": [],
      "source": []
    },
    {
      "cell_type": "markdown",
      "metadata": {
        "id": "DMEk5LzAHNBg"
      },
      "source": [
        "# Normalization and Standardization"
      ]
    },
    {
      "cell_type": "code",
      "execution_count": null,
      "metadata": {
        "colab": {
          "base_uri": "https://localhost:8080/"
        },
        "id": "OuNFqR-PHLr6",
        "outputId": "c6ecadda-f1c9-4d0c-e322-22109adc035f"
      },
      "outputs": [
        {
          "data": {
            "text/plain": [
              "so2     163\n",
              "no2      10\n",
              "rspm      3\n",
              "dtype: int64"
            ]
          },
          "execution_count": 35,
          "metadata": {
            "tags": []
          },
          "output_type": "execute_result"
        }
      ],
      "source": [
        "df_chem=df_blr.loc[df_blr['date'] >'2005-01-01'].iloc[:,5:8]\n",
        "df_chem.isna().sum()"
      ]
    },
    {
      "cell_type": "code",
      "execution_count": null,
      "metadata": {
        "colab": {
          "base_uri": "https://localhost:8080/"
        },
        "id": "MJmsgGEckQvl",
        "outputId": "e691f78f-c314-4a66-c0c9-5e91b0af10bc"
      },
      "outputs": [
        {
          "data": {
            "text/plain": [
              "so2     0\n",
              "no2     0\n",
              "rspm    0\n",
              "dtype: int64"
            ]
          },
          "execution_count": 36,
          "metadata": {
            "tags": []
          },
          "output_type": "execute_result"
        }
      ],
      "source": [
        "imputer = SimpleImputer(missing_values=np.nan, strategy='mean')\n",
        "imputer = imputer.fit(df_chem.iloc[:, 0:3].values)\n",
        "df_chem.iloc[:,0:3] = imputer.transform(df_chem.iloc[:, 0:3].values)\n",
        "df_chem.isna().sum()"
      ]
    },
    {
      "cell_type": "code",
      "execution_count": null,
      "metadata": {
        "colab": {
          "base_uri": "https://localhost:8080/",
          "height": 204
        },
        "id": "DNan7iKpHL1F",
        "outputId": "166a996e-c417-466c-83ae-d91db6d784c6"
      },
      "outputs": [
        {
          "data": {
            "text/html": [
              "<div>\n",
              "<style scoped>\n",
              "    .dataframe tbody tr th:only-of-type {\n",
              "        vertical-align: middle;\n",
              "    }\n",
              "\n",
              "    .dataframe tbody tr th {\n",
              "        vertical-align: top;\n",
              "    }\n",
              "\n",
              "    .dataframe thead th {\n",
              "        text-align: right;\n",
              "    }\n",
              "</style>\n",
              "<table border=\"1\" class=\"dataframe\">\n",
              "  <thead>\n",
              "    <tr style=\"text-align: right;\">\n",
              "      <th></th>\n",
              "      <th>so2</th>\n",
              "      <th>no2</th>\n",
              "      <th>rspm</th>\n",
              "    </tr>\n",
              "  </thead>\n",
              "  <tbody>\n",
              "    <tr>\n",
              "      <th>136862</th>\n",
              "      <td>6.3</td>\n",
              "      <td>44.0</td>\n",
              "      <td>116.0</td>\n",
              "    </tr>\n",
              "    <tr>\n",
              "      <th>136863</th>\n",
              "      <td>6.8</td>\n",
              "      <td>41.9</td>\n",
              "      <td>58.0</td>\n",
              "    </tr>\n",
              "    <tr>\n",
              "      <th>136864</th>\n",
              "      <td>6.5</td>\n",
              "      <td>36.6</td>\n",
              "      <td>176.0</td>\n",
              "    </tr>\n",
              "    <tr>\n",
              "      <th>136865</th>\n",
              "      <td>8.1</td>\n",
              "      <td>51.2</td>\n",
              "      <td>115.0</td>\n",
              "    </tr>\n",
              "    <tr>\n",
              "      <th>136866</th>\n",
              "      <td>7.0</td>\n",
              "      <td>39.5</td>\n",
              "      <td>120.0</td>\n",
              "    </tr>\n",
              "  </tbody>\n",
              "</table>\n",
              "</div>"
            ],
            "text/plain": [
              "        so2   no2   rspm\n",
              "136862  6.3  44.0  116.0\n",
              "136863  6.8  41.9   58.0\n",
              "136864  6.5  36.6  176.0\n",
              "136865  8.1  51.2  115.0\n",
              "136866  7.0  39.5  120.0"
            ]
          },
          "execution_count": 37,
          "metadata": {
            "tags": []
          },
          "output_type": "execute_result"
        }
      ],
      "source": [
        "df_chem.head()"
      ]
    },
    {
      "cell_type": "code",
      "execution_count": null,
      "metadata": {
        "colab": {
          "base_uri": "https://localhost:8080/"
        },
        "id": "1nSunzv02aW5",
        "outputId": "4b70239e-62b0-4a93-8168-b1f12bb51420"
      },
      "outputs": [
        {
          "name": "stdout",
          "output_type": "stream",
          "text": [
            "  Pollutant        Mean     Variance\n",
            "0       SO2   13.334341    29.714001\n",
            "1       NO2   32.660816   111.714445\n",
            "2      RSPM  107.276404  5908.800339\n"
          ]
        }
      ],
      "source": [
        "#df_chem.mean()\n",
        "so2_mean = df_chem['so2'].mean() \n",
        "no2_mean = df_chem['no2'].mean() \n",
        "rspm_mean = df_chem['rspm'].mean() \n",
        "so2_var = df_chem['so2'].std() **2\n",
        "no2_var = df_chem['no2'].std() **2\n",
        "rspm_var = df_chem['rspm'].std() **2\n",
        "mean_vs_pol = {'Pollutant': ['SO2','NO2','RSPM'],\n",
        "               'Mean': [so2_mean,no2_mean,rspm_mean],\n",
        "               'Variance': [so2_var,no2_var,rspm_var]\n",
        "        }\n",
        "\n",
        "mean_t = pd.DataFrame(mean_vs_pol, columns = ['Pollutant', 'Mean','Variance'])\n",
        "\n",
        "print (mean_t)\n",
        "\n"
      ]
    },
    {
      "cell_type": "markdown",
      "metadata": {
        "id": "tATKmlh-DvXv"
      },
      "source": [
        "# Why is Normalization important?\n",
        "\n",
        "### Normalization is generally required when we are dealing with attributes on a different scale, otherwise, it may lead to a dilution in effectiveness of an  equally important attribute (on lower scale) because of other attribute having values on larger scale.\n",
        "### In simple words, when multiple attributes are there but attributes have values on different scales, this may lead to poor data models while performing data mining operations. So they are normalized to bring all the attributes on the same scale.\n",
        "\n",
        "## Commonly used Scaling Techniques:\n",
        "## 1.StandardScaler follows Standard Normal Distribution (SND). Therefore, it makes mean = 0 and scales the data to unit variance.\n",
        "### 2.MinMaxScaler scales all the data features in the range [0, 1] or else in the range [-1, 1] if there are negative values in the dataset.\n",
        "\n",
        "## We have used Standard scaling technique as it follows Standard Normal Distribution. This sets mean to 0 and the variance to 1."
      ]
    },
    {
      "cell_type": "code",
      "execution_count": null,
      "metadata": {
        "colab": {
          "base_uri": "https://localhost:8080/",
          "height": 204
        },
        "id": "bih-NWyssSGA",
        "outputId": "92aed898-2faf-4439-971f-9dad11c71b45"
      },
      "outputs": [
        {
          "data": {
            "text/html": [
              "<div>\n",
              "<style scoped>\n",
              "    .dataframe tbody tr th:only-of-type {\n",
              "        vertical-align: middle;\n",
              "    }\n",
              "\n",
              "    .dataframe tbody tr th {\n",
              "        vertical-align: top;\n",
              "    }\n",
              "\n",
              "    .dataframe thead th {\n",
              "        text-align: right;\n",
              "    }\n",
              "</style>\n",
              "<table border=\"1\" class=\"dataframe\">\n",
              "  <thead>\n",
              "    <tr style=\"text-align: right;\">\n",
              "      <th></th>\n",
              "      <th>SO 2</th>\n",
              "      <th>NO 2</th>\n",
              "      <th>RSPM</th>\n",
              "    </tr>\n",
              "  </thead>\n",
              "  <tbody>\n",
              "    <tr>\n",
              "      <th>0</th>\n",
              "      <td>-1.290565</td>\n",
              "      <td>1.072912</td>\n",
              "      <td>0.113497</td>\n",
              "    </tr>\n",
              "    <tr>\n",
              "      <th>1</th>\n",
              "      <td>-1.198832</td>\n",
              "      <td>0.874210</td>\n",
              "      <td>-0.641101</td>\n",
              "    </tr>\n",
              "    <tr>\n",
              "      <th>2</th>\n",
              "      <td>-1.253871</td>\n",
              "      <td>0.372725</td>\n",
              "      <td>0.894115</td>\n",
              "    </tr>\n",
              "    <tr>\n",
              "      <th>3</th>\n",
              "      <td>-0.960325</td>\n",
              "      <td>1.754175</td>\n",
              "      <td>0.100486</td>\n",
              "    </tr>\n",
              "    <tr>\n",
              "      <th>4</th>\n",
              "      <td>-1.162138</td>\n",
              "      <td>0.647123</td>\n",
              "      <td>0.165538</td>\n",
              "    </tr>\n",
              "  </tbody>\n",
              "</table>\n",
              "</div>"
            ],
            "text/plain": [
              "       SO 2      NO 2      RSPM\n",
              "0 -1.290565  1.072912  0.113497\n",
              "1 -1.198832  0.874210 -0.641101\n",
              "2 -1.253871  0.372725  0.894115\n",
              "3 -0.960325  1.754175  0.100486\n",
              "4 -1.162138  0.647123  0.165538"
            ]
          },
          "execution_count": 39,
          "metadata": {
            "tags": []
          },
          "output_type": "execute_result"
        }
      ],
      "source": [
        "from sklearn.preprocessing import StandardScaler\n",
        "scaler = StandardScaler() \n",
        "x_scaled = scaler.fit_transform(df_chem)\n",
        "df_chem_norm = pd.DataFrame(x_scaled)\n",
        "df_chem_norm.rename(columns={0: 'SO 2', 1: 'NO 2', 2: 'RSPM'}, inplace=True)\n",
        "\n",
        "df_chem_norm.head()\n"
      ]
    },
    {
      "cell_type": "code",
      "execution_count": null,
      "metadata": {
        "colab": {
          "base_uri": "https://localhost:8080/"
        },
        "id": "NVd80UECuK_L",
        "outputId": "3dedbe6c-acc1-45dc-a4a5-14d5beda77c4"
      },
      "outputs": [
        {
          "data": {
            "text/plain": [
              "SO 2   -7.132243e-15\n",
              "NO 2   -5.315738e-15\n",
              "RSPM    1.304356e-16\n",
              "dtype: float64"
            ]
          },
          "execution_count": 40,
          "metadata": {
            "tags": []
          },
          "output_type": "execute_result"
        }
      ],
      "source": [
        "df_chem_norm.mean()\n",
        "#mean is approximated to 0."
      ]
    },
    {
      "cell_type": "code",
      "execution_count": null,
      "metadata": {
        "colab": {
          "base_uri": "https://localhost:8080/"
        },
        "id": "cATwvrOauLHM",
        "outputId": "d11baf11-4067-4a59-e714-48166a039d95"
      },
      "outputs": [
        {
          "data": {
            "text/plain": [
              "SO 2    1.000085\n",
              "NO 2    1.000085\n",
              "RSPM    1.000085\n",
              "dtype: float64"
            ]
          },
          "execution_count": 41,
          "metadata": {
            "tags": []
          },
          "output_type": "execute_result"
        }
      ],
      "source": [
        "df_chem_norm.std()\n",
        "#standard deviation is approximated to 1.We can also infer that the variance is also 1."
      ]
    },
    {
      "cell_type": "code",
      "execution_count": null,
      "metadata": {
        "colab": {
          "base_uri": "https://localhost:8080/"
        },
        "id": "JcJfboojuLOp",
        "outputId": "b1a98241-5cba-4f55-c2ff-967f1cb5da6d"
      },
      "outputs": [
        {
          "data": {
            "text/plain": [
              "so2     1.210348\n",
              "no2     1.132662\n",
              "rspm    2.059178\n",
              "dtype: float64"
            ]
          },
          "execution_count": 42,
          "metadata": {
            "tags": []
          },
          "output_type": "execute_result"
        }
      ],
      "source": [
        "df_chem.skew()"
      ]
    },
    {
      "cell_type": "markdown",
      "metadata": {
        "id": "niT7HZA5qGCz"
      },
      "source": [
        "Look at the values of Skewness. Skewness involves the symmetry of the distribution. Skewness that is normal involves a perfectly symmetric distribution. A positively skewed distribution has scores clustered to the left, with the tail extending to the right. A negatively skewed distribution has scores clustered to the right, with the tail extending to the left. Skewness is 0 in a normal distribution, so the farther away from 0, the more non-normal the distribution. "
      ]
    },
    {
      "cell_type": "code",
      "execution_count": null,
      "metadata": {
        "colab": {
          "base_uri": "https://localhost:8080/",
          "height": 286
        },
        "id": "r1piE-rsm7El",
        "outputId": "665bdb3d-f2a5-4a65-ef83-4b5dda18b332"
      },
      "outputs": [
        {
          "data": {
            "text/html": [
              "<div>\n",
              "<style scoped>\n",
              "    .dataframe tbody tr th:only-of-type {\n",
              "        vertical-align: middle;\n",
              "    }\n",
              "\n",
              "    .dataframe tbody tr th {\n",
              "        vertical-align: top;\n",
              "    }\n",
              "\n",
              "    .dataframe thead th {\n",
              "        text-align: right;\n",
              "    }\n",
              "</style>\n",
              "<table border=\"1\" class=\"dataframe\">\n",
              "  <thead>\n",
              "    <tr style=\"text-align: right;\">\n",
              "      <th></th>\n",
              "      <th>so2</th>\n",
              "      <th>no2</th>\n",
              "      <th>rspm</th>\n",
              "    </tr>\n",
              "  </thead>\n",
              "  <tbody>\n",
              "    <tr>\n",
              "      <th>count</th>\n",
              "      <td>5879.000000</td>\n",
              "      <td>5879.000000</td>\n",
              "      <td>5879.000000</td>\n",
              "    </tr>\n",
              "    <tr>\n",
              "      <th>mean</th>\n",
              "      <td>13.334341</td>\n",
              "      <td>32.660816</td>\n",
              "      <td>107.276404</td>\n",
              "    </tr>\n",
              "    <tr>\n",
              "      <th>std</th>\n",
              "      <td>5.451055</td>\n",
              "      <td>10.569505</td>\n",
              "      <td>76.868721</td>\n",
              "    </tr>\n",
              "    <tr>\n",
              "      <th>min</th>\n",
              "      <td>2.000000</td>\n",
              "      <td>4.000000</td>\n",
              "      <td>12.670000</td>\n",
              "    </tr>\n",
              "    <tr>\n",
              "      <th>25%</th>\n",
              "      <td>10.000000</td>\n",
              "      <td>28.300000</td>\n",
              "      <td>53.000000</td>\n",
              "    </tr>\n",
              "    <tr>\n",
              "      <th>50%</th>\n",
              "      <td>14.000000</td>\n",
              "      <td>31.000000</td>\n",
              "      <td>85.780000</td>\n",
              "    </tr>\n",
              "    <tr>\n",
              "      <th>75%</th>\n",
              "      <td>16.000000</td>\n",
              "      <td>39.400000</td>\n",
              "      <td>138.666667</td>\n",
              "    </tr>\n",
              "    <tr>\n",
              "      <th>max</th>\n",
              "      <td>62.900000</td>\n",
              "      <td>186.000000</td>\n",
              "      <td>902.000000</td>\n",
              "    </tr>\n",
              "  </tbody>\n",
              "</table>\n",
              "</div>"
            ],
            "text/plain": [
              "               so2          no2         rspm\n",
              "count  5879.000000  5879.000000  5879.000000\n",
              "mean     13.334341    32.660816   107.276404\n",
              "std       5.451055    10.569505    76.868721\n",
              "min       2.000000     4.000000    12.670000\n",
              "25%      10.000000    28.300000    53.000000\n",
              "50%      14.000000    31.000000    85.780000\n",
              "75%      16.000000    39.400000   138.666667\n",
              "max      62.900000   186.000000   902.000000"
            ]
          },
          "execution_count": 51,
          "metadata": {
            "tags": []
          },
          "output_type": "execute_result"
        }
      ],
      "source": [
        "df_chem.describe()"
      ]
    },
    {
      "cell_type": "code",
      "execution_count": null,
      "metadata": {
        "colab": {
          "base_uri": "https://localhost:8080/",
          "height": 700
        },
        "id": "HIKA_uDBqI3L",
        "outputId": "a037a87c-8309-472d-c764-9c64be09da49"
      },
      "outputs": [
        {
          "data": {
            "text/plain": [
              "array([[<matplotlib.axes._subplots.AxesSubplot object at 0x7f0318808ef0>,\n",
              "        <matplotlib.axes._subplots.AxesSubplot object at 0x7f03187b4588>],\n",
              "       [<matplotlib.axes._subplots.AxesSubplot object at 0x7f0318765be0>,\n",
              "        <matplotlib.axes._subplots.AxesSubplot object at 0x7f0318722278>]],\n",
              "      dtype=object)"
            ]
          },
          "execution_count": 53,
          "metadata": {
            "tags": []
          },
          "output_type": "execute_result"
        },
        {
          "data": {
            "image/png": "[encoded data removed]",
            "text/plain": [
              "<Figure size 1080x720 with 4 Axes>"
            ]
          },
          "metadata": {
            "needs_background": "light",
            "tags": []
          },
          "output_type": "display_data"
        }
      ],
      "source": [
        "df_chem.hist(stacked=True, bins=20, figsize=(15,10))\n"
      ]
    },
    {
      "cell_type": "code",
      "execution_count": null,
      "metadata": {
        "colab": {
          "base_uri": "https://localhost:8080/",
          "height": 693
        },
        "id": "U_IzgHKbeIMG",
        "outputId": "e3d05b4d-1cd7-46ee-b025-bb97aff3435b"
      },
      "outputs": [
        {
          "data": {
            "text/plain": [
              "array([[<matplotlib.axes._subplots.AxesSubplot object at 0x7fa9f044ddd8>,\n",
              "        <matplotlib.axes._subplots.AxesSubplot object at 0x7fa9f03ff0b8>],\n",
              "       [<matplotlib.axes._subplots.AxesSubplot object at 0x7fa9f0432320>,\n",
              "        <matplotlib.axes._subplots.AxesSubplot object at 0x7fa9f03e6588>]],\n",
              "      dtype=object)"
            ]
          },
          "execution_count": 44,
          "metadata": {
            "tags": []
          },
          "output_type": "execute_result"
        },
        {
          "data": {
            "image/png": "[encoded data removed]",
            "text/plain": [
              "<Figure size 1080x720 with 4 Axes>"
            ]
          },
          "metadata": {
            "needs_background": "light",
            "tags": []
          },
          "output_type": "display_data"
        }
      ],
      "source": [
        "df_chem_norm.hist(stacked=True, bins=20, figsize=(15,10))"
      ]
    },
    {
      "cell_type": "code",
      "execution_count": null,
      "metadata": {
        "colab": {
          "base_uri": "https://localhost:8080/",
          "height": 1000
        },
        "id": "JvfXfuRTqI_b",
        "outputId": "98fbe9b2-4fd3-46fc-cd25-2c44b32165af"
      },
      "outputs": [
        {
          "name": "stderr",
          "output_type": "stream",
          "text": [
            "/usr/local/lib/python3.6/dist-packages/statsmodels/tools/_testing.py:19: FutureWarning: pandas.util.testing is deprecated. Use the functions in the public API at pandas.testing instead.\n",
            "  import pandas.util.testing as tm\n"
          ]
        },
        {
          "data": {
            "image/png": "[encoded data removed]",
            "text/plain": [
              "<Figure size 1080x576 with 1 Axes>"
            ]
          },
          "metadata": {
            "needs_background": "light",
            "tags": []
          },
          "output_type": "display_data"
        },
        {
          "data": {
            "image/png": "[encoded data removed]",
            "text/plain": [
              "<Figure size 1080x576 with 1 Axes>"
            ]
          },
          "metadata": {
            "needs_background": "light",
            "tags": []
          },
          "output_type": "display_data"
        },
        {
          "data": {
            "image/png": "[encoded data removed]",
            "text/plain": [
              "<Figure size 1080x576 with 1 Axes>"
            ]
          },
          "metadata": {
            "needs_background": "light",
            "tags": []
          },
          "output_type": "display_data"
        }
      ],
      "source": [
        "import statsmodels.api as sm\n",
        "import pylab\n",
        "\n",
        "sm.qqplot(df_chem_norm['SO 2'], line='45')\n",
        "sm.qqplot(df_chem_norm['NO 2'], line='45')\n",
        "sm.qqplot(df_chem_norm['RSPM'], line='45')\n",
        "\n",
        "pylab.show()"
      ]
    },
    {
      "cell_type": "code",
      "execution_count": null,
      "metadata": {
        "id": "zKTs5OXTYK4d"
      },
      "outputs": [],
      "source": []
    },
    {
      "cell_type": "markdown",
      "metadata": {
        "id": "tTM1XH3ZGeGL"
      },
      "source": [
        "# Hypothesis Testing\n"
      ]
    },
    {
      "cell_type": "code",
      "execution_count": null,
      "metadata": {
        "id": "hNBRMKizo2IA"
      },
      "outputs": [],
      "source": [
        "df_merged = pd.concat([df_blr_2010, df_blr_2015], axis=0)"
      ]
    },
    {
      "cell_type": "code",
      "execution_count": null,
      "metadata": {
        "id": "iCM1KbYcpbuq"
      },
      "outputs": [],
      "source": [
        "mean_so2 = df_merged.mean()['so2']\n",
        "mean_no2 = df_merged.mean()['no2']"
      ]
    },
    {
      "cell_type": "markdown",
      "metadata": {
        "id": "P7vjQjvYg-5-"
      },
      "source": [
        "The objective here is to conclude whether the AQI (Air Quality Index) levels meet a specific requirement so that the quality levels are satisfactory. According to studies, a level of AQI less than 30 is considered to be good (non-polluted) for SO2 levels and that of less than 50 is said to be good for NO2 levels. A Hypothesis test can be performed for SO2 and NO2 respectively to infer the quality of air.\n",
        "\n",
        "For SO2:\n",
        "\n",
        "H0: μ >= 30, H1: μ < 30\n",
        "\n",
        "For NO2:\n",
        "\n",
        "H0: μ >= 50, H1: μ < 50\n",
        "\n",
        "The mean could have come from a population whose mean is greater than the specified satisfactory value. Hence, we will perform a hypothesis test."
      ]
    },
    {
      "cell_type": "code",
      "execution_count": null,
      "metadata": {
        "id": "L00UNCafMtlN"
      },
      "outputs": [],
      "source": [
        "sample_no2_std=df_merged.std()['no2']\n",
        "sample_so2_std=df_merged.std()['so2']"
      ]
    },
    {
      "cell_type": "code",
      "execution_count": null,
      "metadata": {
        "id": "TWcYP4y1PLqQ"
      },
      "outputs": [],
      "source": [
        "sample_so2_mean=sample_so2.mean()\n",
        "sample_no2_mean=sample_no2.mean()"
      ]
    },
    {
      "cell_type": "code",
      "execution_count": null,
      "metadata": {
        "colab": {
          "base_uri": "https://localhost:8080/"
        },
        "id": "E-84YcI_Plt9",
        "outputId": "1bcbdf42-418e-4e89-c281-3f17bf6935c9"
      },
      "outputs": [
        {
          "data": {
            "text/plain": [
              "13.388307526745056"
            ]
          },
          "execution_count": 175,
          "metadata": {
            "tags": []
          },
          "output_type": "execute_result"
        }
      ],
      "source": [
        "sample_so2_zscore=(mean_so2-30)/sample_so2_std\n",
        "sample_no2_zscore=(mean_no2-50)/sample_no2_std\n",
        "mean_so2"
      ]
    },
    {
      "cell_type": "code",
      "execution_count": null,
      "metadata": {
        "id": "hF6MNKy0dGxx"
      },
      "outputs": [],
      "source": [
        "import scipy.stats as st\n",
        "\n",
        "p_values_so2 = st.norm.sf(abs(sample_so2_zscore))\n",
        "p_values_no2 = st.norm.sf(abs(sample_no2_zscore))"
      ]
    },
    {
      "cell_type": "code",
      "execution_count": null,
      "metadata": {
        "colab": {
          "base_uri": "https://localhost:8080/"
        },
        "id": "01d8szjmeA5Q",
        "outputId": "dd8884c2-142d-411c-8d60-adb6f5a28999"
      },
      "outputs": [
        {
          "data": {
            "text/plain": [
              "0.001175931354801647"
            ]
          },
          "execution_count": 177,
          "metadata": {
            "tags": []
          },
          "output_type": "execute_result"
        }
      ],
      "source": [
        "p_values_so2"
      ]
    },
    {
      "cell_type": "code",
      "execution_count": null,
      "metadata": {
        "colab": {
          "base_uri": "https://localhost:8080/"
        },
        "id": "igCkDqFUeJVd",
        "outputId": "0b12ce54-ff36-4165-ee92-273eb04a7ac2"
      },
      "outputs": [
        {
          "data": {
            "text/plain": [
              "0.05054018079678436"
            ]
          },
          "execution_count": 178,
          "metadata": {
            "tags": []
          },
          "output_type": "execute_result"
        }
      ],
      "source": [
        "p_values_no2"
      ]
    },
    {
      "cell_type": "markdown",
      "metadata": {
        "id": "O5hzIg7_4rmD"
      },
      "source": [
        "A significance level of <= 0.05 can be considered. From the P-Values calculated, we can conclude that the SO2 and the NO2 levels are below the specified level and hence meet the requirements for 'good air-quality' for the years 2005-2015."
      ]
    },
    {
      "cell_type": "markdown",
      "metadata": {
        "id": "VJ0QqMwDWiyb"
      },
      "source": [
        "# Thank You!"
      ]
    }
  ],
  "metadata": {
    "colab": {
      "collapsed_sections": [],
      "include_colab_link": true,
      "name": "Analysis.ipynb",
      "provenance": []
    },
    "kernelspec": {
      "display_name": "Python 3.7.7 ('base')",
      "language": "python",
      "name": "python3"
    },
    "language_info": {
      "name": "python",
      "version": "3.7.7"
    },
    "vscode": {
      "interpreter": {
        "hash": "c30388c6673c8a992b129edd868f5840bbcd28596a1e5161f493b1e1ebfbe512"
      }
    }
  },
  "nbformat": 4,
  "nbformat_minor": 0
}
